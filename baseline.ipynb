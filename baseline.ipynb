{
 "cells": [
  {
   "cell_type": "code",
   "execution_count": 1,
   "id": "initial_id",
   "metadata": {
    "collapsed": true,
    "ExecuteTime": {
     "end_time": "2024-01-09T16:37:49.828458600Z",
     "start_time": "2024-01-09T16:37:48.741199200Z"
    }
   },
   "outputs": [],
   "source": [
    "import numpy as np\n",
    "import pandas as pd\n",
    "import geopy as geo\n",
    "import geopy.distance as dist\n",
    "\n",
    "from tqdm import tqdm_notebook"
   ]
  },
  {
   "cell_type": "code",
   "execution_count": 2,
   "outputs": [],
   "source": [
    "data = pd.read_csv('train.csv')\n",
    "test = pd.read_csv('val_public.csv')"
   ],
   "metadata": {
    "collapsed": false,
    "ExecuteTime": {
     "end_time": "2024-01-09T16:38:02.264669100Z",
     "start_time": "2024-01-09T16:37:49.823824500Z"
    }
   },
   "id": "c14d581109d33b22"
  },
  {
   "cell_type": "code",
   "execution_count": 3,
   "outputs": [
    {
     "name": "stdout",
     "output_type": "stream",
     "text": [
      "<class 'pandas.core.frame.DataFrame'>\n",
      "RangeIndex: 478287 entries, 0 to 478286\n",
      "Data columns (total 22 columns):\n",
      " #   Column         Non-Null Count   Dtype  \n",
      "---  ------         --------------   -----  \n",
      " 0   id             478287 non-null  int64  \n",
      " 1   actual_price   15367 non-null   float64\n",
      " 2   price          478287 non-null  float64\n",
      " 3   start_date     462920 non-null  object \n",
      " 4   close_date     462920 non-null  object \n",
      " 5   sale_end_date  15367 non-null   object \n",
      " 6   brand          478287 non-null  object \n",
      " 7   model          478287 non-null  object \n",
      " 8   generation     478287 non-null  object \n",
      " 9   modification   478287 non-null  object \n",
      " 10  equipment      344571 non-null  object \n",
      " 11  body_type      478286 non-null  object \n",
      " 12  color          478287 non-null  object \n",
      " 13  year           478287 non-null  float64\n",
      " 14  mileage        478287 non-null  int64  \n",
      " 15  owners_count   478287 non-null  object \n",
      " 16  latitude       478287 non-null  float64\n",
      " 17  longitude      478287 non-null  float64\n",
      " 18  crashes        15367 non-null   float64\n",
      " 19  is_taxi        15343 non-null   float64\n",
      " 20  is_carsharing  15343 non-null   float64\n",
      " 21  description    478287 non-null  object \n",
      "dtypes: float64(8), int64(2), object(12)\n",
      "memory usage: 80.3+ MB\n"
     ]
    }
   ],
   "source": [
    "data.info()"
   ],
   "metadata": {
    "collapsed": false,
    "ExecuteTime": {
     "end_time": "2024-01-09T16:38:03.144579200Z",
     "start_time": "2024-01-09T16:38:02.274191800Z"
    }
   },
   "id": "176bfe8f71ad91df"
  },
  {
   "cell_type": "code",
   "execution_count": 4,
   "outputs": [
    {
     "data": {
      "text/plain": "                  id  actual_price         price           year  \\\ncount  478287.000000  1.536700e+04  4.782870e+05  478287.000000   \nmean   244178.242660  1.600589e+06  8.352486e+05    2009.431536   \nstd    140959.073727  1.464759e+06  9.649817e+05       7.265361   \nmin         0.000000  2.000000e+04  1.000000e+04    1953.000000   \n25%    122104.500000  7.600000e+05  2.850000e+05    2006.000000   \n50%    244167.000000  1.198888e+06  5.700000e+05    2011.000000   \n75%    366267.500000  1.949000e+06  1.000000e+06    2014.000000   \nmax    488322.000000  2.400000e+07  5.000000e+07    2022.000000   \n\n              mileage       latitude      longitude       crashes  \\\ncount   478287.000000  478287.000000  478287.000000  15367.000000   \nmean    154290.615582      54.065152      45.938668      0.538101   \nstd      95339.847425       4.984425      15.560953      0.899891   \nmin       1000.000000      41.459186      19.124550      0.000000   \n25%      88450.000000      51.991757      37.309706      0.000000   \n50%     143500.000000      55.687944      40.078556      0.000000   \n75%     200000.000000      56.484660      50.412361      1.000000   \nmax    1000000.000000      69.733552     178.613873     13.000000   \n\n            is_taxi  is_carsharing  \ncount  15343.000000   15343.000000  \nmean       0.015838       0.001434  \nstd        0.124852       0.037841  \nmin        0.000000       0.000000  \n25%        0.000000       0.000000  \n50%        0.000000       0.000000  \n75%        0.000000       0.000000  \nmax        1.000000       1.000000  ",
      "text/html": "<div>\n<style scoped>\n    .dataframe tbody tr th:only-of-type {\n        vertical-align: middle;\n    }\n\n    .dataframe tbody tr th {\n        vertical-align: top;\n    }\n\n    .dataframe thead th {\n        text-align: right;\n    }\n</style>\n<table border=\"1\" class=\"dataframe\">\n  <thead>\n    <tr style=\"text-align: right;\">\n      <th></th>\n      <th>id</th>\n      <th>actual_price</th>\n      <th>price</th>\n      <th>year</th>\n      <th>mileage</th>\n      <th>latitude</th>\n      <th>longitude</th>\n      <th>crashes</th>\n      <th>is_taxi</th>\n      <th>is_carsharing</th>\n    </tr>\n  </thead>\n  <tbody>\n    <tr>\n      <th>count</th>\n      <td>478287.000000</td>\n      <td>1.536700e+04</td>\n      <td>4.782870e+05</td>\n      <td>478287.000000</td>\n      <td>478287.000000</td>\n      <td>478287.000000</td>\n      <td>478287.000000</td>\n      <td>15367.000000</td>\n      <td>15343.000000</td>\n      <td>15343.000000</td>\n    </tr>\n    <tr>\n      <th>mean</th>\n      <td>244178.242660</td>\n      <td>1.600589e+06</td>\n      <td>8.352486e+05</td>\n      <td>2009.431536</td>\n      <td>154290.615582</td>\n      <td>54.065152</td>\n      <td>45.938668</td>\n      <td>0.538101</td>\n      <td>0.015838</td>\n      <td>0.001434</td>\n    </tr>\n    <tr>\n      <th>std</th>\n      <td>140959.073727</td>\n      <td>1.464759e+06</td>\n      <td>9.649817e+05</td>\n      <td>7.265361</td>\n      <td>95339.847425</td>\n      <td>4.984425</td>\n      <td>15.560953</td>\n      <td>0.899891</td>\n      <td>0.124852</td>\n      <td>0.037841</td>\n    </tr>\n    <tr>\n      <th>min</th>\n      <td>0.000000</td>\n      <td>2.000000e+04</td>\n      <td>1.000000e+04</td>\n      <td>1953.000000</td>\n      <td>1000.000000</td>\n      <td>41.459186</td>\n      <td>19.124550</td>\n      <td>0.000000</td>\n      <td>0.000000</td>\n      <td>0.000000</td>\n    </tr>\n    <tr>\n      <th>25%</th>\n      <td>122104.500000</td>\n      <td>7.600000e+05</td>\n      <td>2.850000e+05</td>\n      <td>2006.000000</td>\n      <td>88450.000000</td>\n      <td>51.991757</td>\n      <td>37.309706</td>\n      <td>0.000000</td>\n      <td>0.000000</td>\n      <td>0.000000</td>\n    </tr>\n    <tr>\n      <th>50%</th>\n      <td>244167.000000</td>\n      <td>1.198888e+06</td>\n      <td>5.700000e+05</td>\n      <td>2011.000000</td>\n      <td>143500.000000</td>\n      <td>55.687944</td>\n      <td>40.078556</td>\n      <td>0.000000</td>\n      <td>0.000000</td>\n      <td>0.000000</td>\n    </tr>\n    <tr>\n      <th>75%</th>\n      <td>366267.500000</td>\n      <td>1.949000e+06</td>\n      <td>1.000000e+06</td>\n      <td>2014.000000</td>\n      <td>200000.000000</td>\n      <td>56.484660</td>\n      <td>50.412361</td>\n      <td>1.000000</td>\n      <td>0.000000</td>\n      <td>0.000000</td>\n    </tr>\n    <tr>\n      <th>max</th>\n      <td>488322.000000</td>\n      <td>2.400000e+07</td>\n      <td>5.000000e+07</td>\n      <td>2022.000000</td>\n      <td>1000000.000000</td>\n      <td>69.733552</td>\n      <td>178.613873</td>\n      <td>13.000000</td>\n      <td>1.000000</td>\n      <td>1.000000</td>\n    </tr>\n  </tbody>\n</table>\n</div>"
     },
     "execution_count": 4,
     "metadata": {},
     "output_type": "execute_result"
    }
   ],
   "source": [
    "data.describe()"
   ],
   "metadata": {
    "collapsed": false,
    "ExecuteTime": {
     "end_time": "2024-01-09T16:38:03.326019900Z",
     "start_time": "2024-01-09T16:38:03.146582800Z"
    }
   },
   "id": "9e0148721c41bedb"
  },
  {
   "cell_type": "code",
   "execution_count": 5,
   "outputs": [
    {
     "data": {
      "text/plain": "Index(['id', 'actual_price', 'price', 'start_date', 'close_date',\n       'sale_end_date', 'brand', 'model', 'generation', 'modification',\n       'equipment', 'body_type', 'color', 'year', 'mileage', 'owners_count',\n       'latitude', 'longitude', 'crashes', 'is_taxi', 'is_carsharing',\n       'description'],\n      dtype='object')"
     },
     "execution_count": 5,
     "metadata": {},
     "output_type": "execute_result"
    }
   ],
   "source": [
    "data.columns"
   ],
   "metadata": {
    "collapsed": false,
    "ExecuteTime": {
     "end_time": "2024-01-09T16:38:03.333020600Z",
     "start_time": "2024-01-09T16:38:03.327931100Z"
    }
   },
   "id": "d5bb7b01d98b8da2"
  },
  {
   "cell_type": "code",
   "execution_count": 6,
   "outputs": [
    {
     "data": {
      "text/plain": "Index(['id', 'sale_end_date', 'brand', 'model', 'generation', 'modification',\n       'equipment', 'body_type', 'color', 'year', 'mileage', 'owners_count',\n       'latitude', 'longitude', 'crashes', 'is_taxi', 'is_carsharing',\n       'description'],\n      dtype='object')"
     },
     "execution_count": 6,
     "metadata": {},
     "output_type": "execute_result"
    }
   ],
   "source": [
    "test.columns"
   ],
   "metadata": {
    "collapsed": false,
    "ExecuteTime": {
     "end_time": "2024-01-09T16:38:03.369751300Z",
     "start_time": "2024-01-09T16:38:03.334433400Z"
    }
   },
   "id": "5339690d61ce0cd4"
  },
  {
   "cell_type": "code",
   "execution_count": 7,
   "outputs": [
    {
     "name": "stdout",
     "output_type": "stream",
     "text": [
      "<class 'pandas.core.frame.DataFrame'>\n",
      "RangeIndex: 1611 entries, 0 to 1610\n",
      "Data columns (total 18 columns):\n",
      " #   Column         Non-Null Count  Dtype  \n",
      "---  ------         --------------  -----  \n",
      " 0   id             1611 non-null   int64  \n",
      " 1   sale_end_date  1611 non-null   object \n",
      " 2   brand          1611 non-null   object \n",
      " 3   model          1611 non-null   object \n",
      " 4   generation     1611 non-null   object \n",
      " 5   modification   1611 non-null   object \n",
      " 6   equipment      699 non-null    object \n",
      " 7   body_type      1611 non-null   object \n",
      " 8   color          1611 non-null   object \n",
      " 9   year           1611 non-null   float64\n",
      " 10  mileage        1611 non-null   int64  \n",
      " 11  owners_count   1611 non-null   object \n",
      " 12  latitude       1611 non-null   float64\n",
      " 13  longitude      1611 non-null   float64\n",
      " 14  crashes        1611 non-null   float64\n",
      " 15  is_taxi        1610 non-null   float64\n",
      " 16  is_carsharing  1610 non-null   float64\n",
      " 17  description    1611 non-null   object \n",
      "dtypes: float64(6), int64(2), object(10)\n",
      "memory usage: 226.7+ KB\n"
     ]
    }
   ],
   "source": [
    "test.info()"
   ],
   "metadata": {
    "collapsed": false,
    "ExecuteTime": {
     "end_time": "2024-01-09T16:38:03.435404300Z",
     "start_time": "2024-01-09T16:38:03.339966700Z"
    }
   },
   "id": "1f447f895dbc6a93"
  },
  {
   "cell_type": "markdown",
   "source": [
    "Заполним пропущенные значения для столбцов crashes, is_taxi, is_carsharing нулевыми значениями"
   ],
   "metadata": {
    "collapsed": false
   },
   "id": "bb0cc5bb739682d0"
  },
  {
   "cell_type": "code",
   "execution_count": 8,
   "outputs": [],
   "source": [
    "data['crashes'] = data['crashes'].fillna(0.)\n",
    "data['is_taxi'] = data['is_taxi'].fillna(0.)\n",
    "test['is_taxi'] = test['is_taxi'].fillna(0.)\n",
    "data['is_carsharing'] = data['is_carsharing'].fillna(0.)\n",
    "test['is_carsharing'] = test['is_carsharing'].fillna(0.)"
   ],
   "metadata": {
    "collapsed": false,
    "ExecuteTime": {
     "end_time": "2024-01-09T16:38:03.541403600Z",
     "start_time": "2024-01-09T16:38:03.354606300Z"
    }
   },
   "id": "56fe9db086b910bb"
  },
  {
   "cell_type": "markdown",
   "source": [
    "Заполним пропущенные значения для столбца equipment значением Unknown"
   ],
   "metadata": {
    "collapsed": false
   },
   "id": "b0583c0e7cff12b2"
  },
  {
   "cell_type": "code",
   "execution_count": 9,
   "outputs": [],
   "source": [
    "data['equipment'] = data['equipment'].fillna('Unknown')\n",
    "test['equipment'] = test['equipment'].fillna('Unknown')"
   ],
   "metadata": {
    "collapsed": false,
    "ExecuteTime": {
     "end_time": "2024-01-09T16:38:03.662895400Z",
     "start_time": "2024-01-09T16:38:03.412820500Z"
    }
   },
   "id": "7f4180fa9a2bf3a4"
  },
  {
   "cell_type": "markdown",
   "source": [
    "Заполним пропущенное значение body_type для Hyundai Sonata значением Седан"
   ],
   "metadata": {
    "collapsed": false
   },
   "id": "7b364f87c7bb4ad3"
  },
  {
   "cell_type": "code",
   "execution_count": 10,
   "outputs": [],
   "source": [
    "data['body_type'] = data['body_type'].fillna('Седан')"
   ],
   "metadata": {
    "collapsed": false,
    "ExecuteTime": {
     "end_time": "2024-01-09T16:38:03.771897500Z",
     "start_time": "2024-01-09T16:38:03.477726500Z"
    }
   },
   "id": "4b4df71d0b2149bf"
  },
  {
   "cell_type": "markdown",
   "source": [
    "Так как в столбце sale_end_date содержится дата сделки с дилером, а в столбце close_date дата закрытия объявления, то заполним пропущенные значения в столбце sale_end_date значениями из столбца close_date"
   ],
   "metadata": {
    "collapsed": false
   },
   "id": "41737cec41587d1"
  },
  {
   "cell_type": "code",
   "execution_count": 11,
   "outputs": [],
   "source": [
    "data['sale_end_date'] = data['sale_end_date'].fillna(data['close_date'])"
   ],
   "metadata": {
    "collapsed": false,
    "ExecuteTime": {
     "end_time": "2024-01-09T16:38:03.857490100Z",
     "start_time": "2024-01-09T16:38:03.561018Z"
    }
   },
   "id": "187bf0380b2ec94d"
  },
  {
   "cell_type": "markdown",
   "source": [
    "Добавим новые признаки на основе столбца sale_end_date"
   ],
   "metadata": {
    "collapsed": false
   },
   "id": "868657160b470b30"
  },
  {
   "cell_type": "code",
   "execution_count": 12,
   "outputs": [],
   "source": [
    "data['month'] = data['sale_end_date'].str.split('-').str.get(1)\n",
    "test['month'] = test['sale_end_date'].str.split('-').str.get(1)\n",
    "data['day'] = data['sale_end_date'].str.split('-').str.get(2)\n",
    "test['day'] = test['sale_end_date'].str.split('-').str.get(2)\n",
    "data['sale_year'] = data['sale_end_date'].str.split('-').str.get(0)\n",
    "test['sale_year'] = test['sale_end_date'].str.split('-').str.get(0)"
   ],
   "metadata": {
    "collapsed": false,
    "ExecuteTime": {
     "end_time": "2024-01-09T16:38:07.564451Z",
     "start_time": "2024-01-09T16:38:03.658887900Z"
    }
   },
   "id": "c775009044101745"
  },
  {
   "cell_type": "code",
   "execution_count": 13,
   "outputs": [],
   "source": [
    "data['month'] = pd.to_numeric(data['month'])\n",
    "data['day'] = pd.to_numeric(data['day'])\n",
    "data['sale_year'] = pd.to_numeric(data['sale_year'])\n",
    "test['month'] = pd.to_numeric(test['month'])\n",
    "test['day'] = pd.to_numeric(test['day'])\n",
    "test['sale_year'] = pd.to_numeric(test['sale_year'])"
   ],
   "metadata": {
    "collapsed": false,
    "ExecuteTime": {
     "end_time": "2024-01-09T16:38:08.598246900Z",
     "start_time": "2024-01-09T16:38:07.567965400Z"
    }
   },
   "id": "305f0bd131036735"
  },
  {
   "cell_type": "code",
   "execution_count": 14,
   "outputs": [],
   "source": [
    "data['day_of_week'] = pd.to_datetime(data['sale_end_date']).dt.dayofweek\n",
    "test['day_of_week'] = pd.to_datetime(test['sale_end_date']).dt.dayofweek\n",
    "data['day_of_year'] = pd.to_datetime(data['sale_end_date']).dt.dayofyear\n",
    "test['day_of_year'] = pd.to_datetime(test['sale_end_date']).dt.dayofyear"
   ],
   "metadata": {
    "collapsed": false,
    "ExecuteTime": {
     "end_time": "2024-01-09T16:38:08.807638200Z",
     "start_time": "2024-01-09T16:38:08.612102Z"
    }
   },
   "id": "dd4efe0d01d294d1"
  },
  {
   "cell_type": "code",
   "execution_count": 22,
   "outputs": [],
   "source": [
    "data.loc[data['actual_price'].isna(), 'actual_price'] = data.loc[data['actual_price'].isna(), 'price']"
   ],
   "metadata": {
    "collapsed": false,
    "ExecuteTime": {
     "end_time": "2024-01-09T16:40:02.907249Z",
     "start_time": "2024-01-09T16:40:02.865207400Z"
    }
   },
   "id": "c04066d31c028ca6"
  },
  {
   "cell_type": "markdown",
   "source": [
    "Добавим новый признак - расстояние от Москвы до места продажи"
   ],
   "metadata": {
    "collapsed": false
   },
   "id": "b7a07f99e06c6431"
  },
  {
   "cell_type": "code",
   "execution_count": 25,
   "outputs": [],
   "source": [
    "Moscow = [55.755815, 37.617311]"
   ],
   "metadata": {
    "collapsed": false,
    "ExecuteTime": {
     "end_time": "2024-01-09T16:40:41.099963100Z",
     "start_time": "2024-01-09T16:40:41.062336Z"
    }
   },
   "id": "e847121d773ef596"
  },
  {
   "cell_type": "code",
   "execution_count": 26,
   "outputs": [
    {
     "name": "stderr",
     "output_type": "stream",
     "text": [
      "C:\\Users\\aleks\\AppData\\Local\\Temp\\ipykernel_26168\\3815543329.py:3: TqdmDeprecationWarning: This function will be removed in tqdm==5.0.0\n",
      "Please use `tqdm.notebook.tqdm` instead of `tqdm.tqdm_notebook`\n",
      "  for index, row in tqdm_notebook(data.iterrows()):\n"
     ]
    },
    {
     "data": {
      "text/plain": "0it [00:00, ?it/s]",
      "application/vnd.jupyter.widget-view+json": {
       "version_major": 2,
       "version_minor": 0,
       "model_id": "cb7cd2de33d3444b922c96908b0c2bb6"
      }
     },
     "metadata": {},
     "output_type": "display_data"
    },
    {
     "name": "stderr",
     "output_type": "stream",
     "text": [
      "C:\\Users\\aleks\\AppData\\Local\\Temp\\ipykernel_26168\\3815543329.py:11: TqdmDeprecationWarning: This function will be removed in tqdm==5.0.0\n",
      "Please use `tqdm.notebook.tqdm` instead of `tqdm.tqdm_notebook`\n",
      "  for index, row in tqdm_notebook(test.iterrows()):\n"
     ]
    },
    {
     "data": {
      "text/plain": "0it [00:00, ?it/s]",
      "application/vnd.jupyter.widget-view+json": {
       "version_major": 2,
       "version_minor": 0,
       "model_id": "61a9fb21566f44f39193ef11681dce42"
      }
     },
     "metadata": {},
     "output_type": "display_data"
    }
   ],
   "source": [
    "dist_moscow = []\n",
    "\n",
    "for index, row in tqdm_notebook(data.iterrows()):\n",
    "    dist_moscow = np.append(dist_moscow,\n",
    "                            dist.distance(Moscow, [row['latitude'], row['longitude']]).km)\n",
    "    \n",
    "data['dist_moscow'] = dist_moscow\n",
    "\n",
    "dist_moscow = []\n",
    "\n",
    "for index, row in tqdm_notebook(test.iterrows()):\n",
    "    dist_moscow = np.append(dist_moscow,\n",
    "                            dist.distance(Moscow, [row['latitude'], row['longitude']]).km)\n",
    "    \n",
    "test['dist_moscow'] = dist_moscow"
   ],
   "metadata": {
    "collapsed": false,
    "ExecuteTime": {
     "end_time": "2024-01-09T16:46:53.587492Z",
     "start_time": "2024-01-09T16:40:42.143822500Z"
    }
   },
   "id": "98f2268dc28563af"
  },
  {
   "cell_type": "code",
   "execution_count": 27,
   "outputs": [],
   "source": [
    "data['close_date'] = pd.to_datetime(data['close_date'])\n",
    "data['start_date'] = pd.to_datetime(data['start_date'])"
   ],
   "metadata": {
    "collapsed": false,
    "ExecuteTime": {
     "end_time": "2024-01-09T16:47:35.976898800Z",
     "start_time": "2024-01-09T16:47:35.799713700Z"
    }
   },
   "id": "ffc60746b208ecc9"
  },
  {
   "cell_type": "markdown",
   "source": [
    "Добавим новый признак - время, которое объявление было на сайте. Для тестовых данных заполним пропущенные значения медианным значением для каждой модели"
   ],
   "metadata": {
    "collapsed": false
   },
   "id": "48fbdbd89a497039"
  },
  {
   "cell_type": "code",
   "execution_count": 28,
   "outputs": [],
   "source": [
    "data['sell_time'] = data['close_date'] - data['start_date']\n",
    "data['sell_time'] = data['sell_time'].dt.days"
   ],
   "metadata": {
    "collapsed": false,
    "ExecuteTime": {
     "end_time": "2024-01-09T16:47:38.035981200Z",
     "start_time": "2024-01-09T16:47:38.000347800Z"
    }
   },
   "id": "e7727ae712faad22"
  },
  {
   "cell_type": "code",
   "execution_count": 29,
   "outputs": [],
   "source": [
    "test['sell_time'] = test['model'].map(data.groupby(by='model').agg({'sell_time': 'median'}).to_dict()['sell_time'])"
   ],
   "metadata": {
    "collapsed": false,
    "ExecuteTime": {
     "end_time": "2024-01-09T16:47:42.214997800Z",
     "start_time": "2024-01-09T16:47:42.180052400Z"
    }
   },
   "id": "8463932fd7f9c0f0"
  },
  {
   "cell_type": "code",
   "execution_count": 30,
   "outputs": [],
   "source": [
    "data['sell_time'] = (data['sell_time']\n",
    "                     .fillna(data['model']\n",
    "                     .map(data.groupby(by='model')\n",
    "                        .agg({'sell_time': 'median'})\n",
    "                        .to_dict()['sell_time']\n",
    "                     )))"
   ],
   "metadata": {
    "collapsed": false,
    "ExecuteTime": {
     "end_time": "2024-01-09T16:47:44.536357400Z",
     "start_time": "2024-01-09T16:47:44.458376400Z"
    }
   },
   "id": "8dc135dbe25c7472"
  },
  {
   "cell_type": "code",
   "execution_count": 31,
   "outputs": [
    {
     "name": "stdout",
     "output_type": "stream",
     "text": [
      "<class 'pandas.core.frame.DataFrame'>\n",
      "RangeIndex: 478287 entries, 0 to 478286\n",
      "Data columns (total 29 columns):\n",
      " #   Column         Non-Null Count   Dtype         \n",
      "---  ------         --------------   -----         \n",
      " 0   id             478287 non-null  int64         \n",
      " 1   actual_price   478287 non-null  float64       \n",
      " 2   price          478287 non-null  float64       \n",
      " 3   start_date     462920 non-null  datetime64[ns]\n",
      " 4   close_date     462920 non-null  datetime64[ns]\n",
      " 5   sale_end_date  478287 non-null  object        \n",
      " 6   brand          478287 non-null  object        \n",
      " 7   model          478287 non-null  object        \n",
      " 8   generation     478287 non-null  object        \n",
      " 9   modification   478287 non-null  object        \n",
      " 10  equipment      478287 non-null  object        \n",
      " 11  body_type      478287 non-null  object        \n",
      " 12  color          478287 non-null  object        \n",
      " 13  year           478287 non-null  float64       \n",
      " 14  mileage        478287 non-null  int64         \n",
      " 15  owners_count   478287 non-null  object        \n",
      " 16  latitude       478287 non-null  float64       \n",
      " 17  longitude      478287 non-null  float64       \n",
      " 18  crashes        478287 non-null  float64       \n",
      " 19  is_taxi        478287 non-null  float64       \n",
      " 20  is_carsharing  478287 non-null  float64       \n",
      " 21  description    478287 non-null  object        \n",
      " 22  month          478287 non-null  int64         \n",
      " 23  day            478287 non-null  int64         \n",
      " 24  sale_year      478287 non-null  int64         \n",
      " 25  day_of_week    478287 non-null  int64         \n",
      " 26  day_of_year    478287 non-null  int64         \n",
      " 27  dist_moscow    478287 non-null  float64       \n",
      " 28  sell_time      478287 non-null  float64       \n",
      "dtypes: datetime64[ns](2), float64(10), int64(7), object(10)\n",
      "memory usage: 105.8+ MB\n"
     ]
    }
   ],
   "source": [
    "data.info()"
   ],
   "metadata": {
    "collapsed": false,
    "ExecuteTime": {
     "end_time": "2024-01-09T16:47:48.393751600Z",
     "start_time": "2024-01-09T16:47:47.638757100Z"
    }
   },
   "id": "69519f7690b42921"
  },
  {
   "cell_type": "code",
   "execution_count": 32,
   "outputs": [
    {
     "name": "stdout",
     "output_type": "stream",
     "text": [
      "<class 'pandas.core.frame.DataFrame'>\n",
      "RangeIndex: 1611 entries, 0 to 1610\n",
      "Data columns (total 25 columns):\n",
      " #   Column         Non-Null Count  Dtype  \n",
      "---  ------         --------------  -----  \n",
      " 0   id             1611 non-null   int64  \n",
      " 1   sale_end_date  1611 non-null   object \n",
      " 2   brand          1611 non-null   object \n",
      " 3   model          1611 non-null   object \n",
      " 4   generation     1611 non-null   object \n",
      " 5   modification   1611 non-null   object \n",
      " 6   equipment      1611 non-null   object \n",
      " 7   body_type      1611 non-null   object \n",
      " 8   color          1611 non-null   object \n",
      " 9   year           1611 non-null   float64\n",
      " 10  mileage        1611 non-null   int64  \n",
      " 11  owners_count   1611 non-null   object \n",
      " 12  latitude       1611 non-null   float64\n",
      " 13  longitude      1611 non-null   float64\n",
      " 14  crashes        1611 non-null   float64\n",
      " 15  is_taxi        1611 non-null   float64\n",
      " 16  is_carsharing  1611 non-null   float64\n",
      " 17  description    1611 non-null   object \n",
      " 18  month          1611 non-null   int64  \n",
      " 19  day            1611 non-null   int64  \n",
      " 20  sale_year      1611 non-null   int64  \n",
      " 21  day_of_week    1611 non-null   int64  \n",
      " 22  day_of_year    1611 non-null   int64  \n",
      " 23  dist_moscow    1611 non-null   float64\n",
      " 24  sell_time      1611 non-null   float64\n",
      "dtypes: float64(8), int64(7), object(10)\n",
      "memory usage: 314.8+ KB\n"
     ]
    }
   ],
   "source": [
    "test.info()"
   ],
   "metadata": {
    "collapsed": false,
    "ExecuteTime": {
     "end_time": "2024-01-09T16:47:48.560809500Z",
     "start_time": "2024-01-09T16:47:48.553292900Z"
    }
   },
   "id": "3ef8c0292b5c02d3"
  },
  {
   "cell_type": "code",
   "execution_count": 33,
   "outputs": [],
   "source": [
    "# replace \\n with space in description\n",
    "data['description'] = data['description'].str.replace('\\n', ' ')"
   ],
   "metadata": {
    "collapsed": false,
    "ExecuteTime": {
     "end_time": "2024-01-09T16:47:58.263481600Z",
     "start_time": "2024-01-09T16:47:57.587118300Z"
    }
   },
   "id": "41f6f89258bf9f41"
  },
  {
   "cell_type": "code",
   "execution_count": 34,
   "outputs": [
    {
     "name": "stderr",
     "output_type": "stream",
     "text": [
      "C:\\Users\\aleks\\AppData\\Local\\Temp\\ipykernel_26168\\2091252278.py:2: FutureWarning: The default value of regex will change from True to False in a future version.\n",
      "  data['description'] = data['description'].str.replace(' +', ' ')\n"
     ]
    }
   ],
   "source": [
    "# delete multiple spaces\n",
    "data['description'] = data['description'].str.replace(' +', ' ')"
   ],
   "metadata": {
    "collapsed": false,
    "ExecuteTime": {
     "end_time": "2024-01-09T16:48:12.354083900Z",
     "start_time": "2024-01-09T16:47:58.330711100Z"
    }
   },
   "id": "ea72ee850788182"
  },
  {
   "cell_type": "code",
   "execution_count": 36,
   "outputs": [],
   "source": [
    "data.to_csv('data_prepared.csv')\n",
    "test.to_csv('test_prepaired.csv')"
   ],
   "metadata": {
    "collapsed": false,
    "ExecuteTime": {
     "end_time": "2024-01-09T16:52:21.148269900Z",
     "start_time": "2024-01-09T16:52:05.121726300Z"
    }
   },
   "id": "289572ccc39059d"
  },
  {
   "cell_type": "code",
   "execution_count": 37,
   "outputs": [],
   "source": [
    "X_train, y_train = data.drop(['id', 'actual_price', 'price', 'sale_end_date', 'start_date', 'close_date', 'latitude', 'longitude', 'sale_year'], axis=1), data['price']"
   ],
   "metadata": {
    "collapsed": false,
    "ExecuteTime": {
     "end_time": "2024-01-09T16:52:36.820421200Z",
     "start_time": "2024-01-09T16:52:36.747206300Z"
    }
   },
   "id": "e9758e2d51de73f0"
  },
  {
   "cell_type": "code",
   "execution_count": 38,
   "outputs": [],
   "source": [
    "X_test = test.drop(['id', 'sale_end_date', 'latitude', 'longitude', 'sale_year'], axis=1)"
   ],
   "metadata": {
    "collapsed": false,
    "ExecuteTime": {
     "end_time": "2024-01-09T16:52:42.597072Z",
     "start_time": "2024-01-09T16:52:42.572456800Z"
    }
   },
   "id": "a02f772100c5d383"
  },
  {
   "cell_type": "code",
   "execution_count": 40,
   "outputs": [
    {
     "name": "stdout",
     "output_type": "stream",
     "text": [
      "<class 'pandas.core.frame.DataFrame'>\n",
      "RangeIndex: 478287 entries, 0 to 478286\n",
      "Data columns (total 20 columns):\n",
      " #   Column         Non-Null Count   Dtype  \n",
      "---  ------         --------------   -----  \n",
      " 0   brand          478287 non-null  object \n",
      " 1   model          478287 non-null  object \n",
      " 2   generation     478287 non-null  object \n",
      " 3   modification   478287 non-null  object \n",
      " 4   equipment      478287 non-null  object \n",
      " 5   body_type      478287 non-null  object \n",
      " 6   color          478287 non-null  object \n",
      " 7   year           478287 non-null  float64\n",
      " 8   mileage        478287 non-null  int64  \n",
      " 9   owners_count   478287 non-null  object \n",
      " 10  crashes        478287 non-null  float64\n",
      " 11  is_taxi        478287 non-null  float64\n",
      " 12  is_carsharing  478287 non-null  float64\n",
      " 13  description    478287 non-null  object \n",
      " 14  month          478287 non-null  int64  \n",
      " 15  day            478287 non-null  int64  \n",
      " 16  day_of_week    478287 non-null  int64  \n",
      " 17  day_of_year    478287 non-null  int64  \n",
      " 18  dist_moscow    478287 non-null  float64\n",
      " 19  sell_time      478287 non-null  float64\n",
      "dtypes: float64(6), int64(5), object(9)\n",
      "memory usage: 73.0+ MB\n"
     ]
    }
   ],
   "source": [
    "X_train.info()"
   ],
   "metadata": {
    "collapsed": false,
    "ExecuteTime": {
     "end_time": "2024-01-09T16:53:17.776375Z",
     "start_time": "2024-01-09T16:53:16.989617800Z"
    }
   },
   "id": "63496e6ea6a1436b"
  },
  {
   "cell_type": "code",
   "execution_count": 41,
   "outputs": [
    {
     "name": "stdout",
     "output_type": "stream",
     "text": [
      "<class 'pandas.core.frame.DataFrame'>\n",
      "RangeIndex: 1611 entries, 0 to 1610\n",
      "Data columns (total 20 columns):\n",
      " #   Column         Non-Null Count  Dtype  \n",
      "---  ------         --------------  -----  \n",
      " 0   brand          1611 non-null   object \n",
      " 1   model          1611 non-null   object \n",
      " 2   generation     1611 non-null   object \n",
      " 3   modification   1611 non-null   object \n",
      " 4   equipment      1611 non-null   object \n",
      " 5   body_type      1611 non-null   object \n",
      " 6   color          1611 non-null   object \n",
      " 7   year           1611 non-null   float64\n",
      " 8   mileage        1611 non-null   int64  \n",
      " 9   owners_count   1611 non-null   object \n",
      " 10  crashes        1611 non-null   float64\n",
      " 11  is_taxi        1611 non-null   float64\n",
      " 12  is_carsharing  1611 non-null   float64\n",
      " 13  description    1611 non-null   object \n",
      " 14  month          1611 non-null   int64  \n",
      " 15  day            1611 non-null   int64  \n",
      " 16  day_of_week    1611 non-null   int64  \n",
      " 17  day_of_year    1611 non-null   int64  \n",
      " 18  dist_moscow    1611 non-null   float64\n",
      " 19  sell_time      1611 non-null   float64\n",
      "dtypes: float64(6), int64(5), object(9)\n",
      "memory usage: 251.8+ KB\n"
     ]
    }
   ],
   "source": [
    "X_test.info()"
   ],
   "metadata": {
    "collapsed": false,
    "ExecuteTime": {
     "end_time": "2024-01-09T16:53:18.498713400Z",
     "start_time": "2024-01-09T16:53:18.483109500Z"
    }
   },
   "id": "b4651ba9c44e6ea2"
  },
  {
   "cell_type": "code",
   "execution_count": 42,
   "outputs": [],
   "source": [
    "cat_features = ['brand', 'model', 'generation', 'modification', 'equipment', 'body_type', 'color', 'owners_count']\n",
    "text_features = ['description']"
   ],
   "metadata": {
    "collapsed": false,
    "ExecuteTime": {
     "end_time": "2024-01-09T16:53:49.061827200Z",
     "start_time": "2024-01-09T16:53:49.038800500Z"
    }
   },
   "id": "a2fc0fd40fd990a7"
  },
  {
   "cell_type": "code",
   "execution_count": 43,
   "outputs": [],
   "source": [
    "from catboost import CatBoostRegressor"
   ],
   "metadata": {
    "collapsed": false,
    "ExecuteTime": {
     "end_time": "2024-01-09T16:53:50.729173600Z",
     "start_time": "2024-01-09T16:53:49.759800400Z"
    }
   },
   "id": "9fb27fb3228930b9"
  },
  {
   "cell_type": "code",
   "execution_count": 44,
   "outputs": [],
   "source": [
    "model = CatBoostRegressor(iterations=1000,\n",
    "                          learning_rate=0.1,\n",
    "                          depth=10,\n",
    "                          loss_function='RMSE',\n",
    "                          eval_metric='MAPE',\n",
    "                          random_seed=42,\n",
    "                          od_type='Iter',\n",
    "                          od_wait=20,\n",
    "                          task_type='GPU',\n",
    "                          devices='0:1')"
   ],
   "metadata": {
    "collapsed": false,
    "ExecuteTime": {
     "end_time": "2024-01-09T16:53:55.736347Z",
     "start_time": "2024-01-09T16:53:55.710955900Z"
    }
   },
   "id": "a2608230bca580c6"
  },
  {
   "cell_type": "code",
   "execution_count": 45,
   "outputs": [
    {
     "name": "stdout",
     "output_type": "stream",
     "text": [
      "0:\tlearn: 2.1453534\ttotal: 442ms\tremaining: 7m 21s\n",
      "1:\tlearn: 1.9677253\ttotal: 580ms\tremaining: 4m 49s\n",
      "2:\tlearn: 1.8216097\ttotal: 706ms\tremaining: 3m 54s\n",
      "3:\tlearn: 1.6859181\ttotal: 837ms\tremaining: 3m 28s\n",
      "4:\tlearn: 1.5728807\ttotal: 961ms\tremaining: 3m 11s\n",
      "5:\tlearn: 1.4547739\ttotal: 1.09s\tremaining: 3m\n",
      "6:\tlearn: 1.3432385\ttotal: 1.22s\tremaining: 2m 53s\n",
      "7:\tlearn: 1.2484882\ttotal: 1.34s\tremaining: 2m 46s\n",
      "8:\tlearn: 1.1537382\ttotal: 1.46s\tremaining: 2m 40s\n",
      "9:\tlearn: 1.0720651\ttotal: 1.58s\tremaining: 2m 36s\n",
      "10:\tlearn: 1.0012195\ttotal: 1.7s\tremaining: 2m 32s\n",
      "11:\tlearn: 0.9350753\ttotal: 1.82s\tremaining: 2m 29s\n",
      "12:\tlearn: 0.8784945\ttotal: 1.94s\tremaining: 2m 27s\n",
      "13:\tlearn: 0.8230773\ttotal: 2.07s\tremaining: 2m 25s\n",
      "14:\tlearn: 0.7783652\ttotal: 2.2s\tremaining: 2m 24s\n",
      "15:\tlearn: 0.7394638\ttotal: 2.31s\tremaining: 2m 22s\n",
      "16:\tlearn: 0.7027626\ttotal: 2.44s\tremaining: 2m 20s\n",
      "17:\tlearn: 0.6676695\ttotal: 2.56s\tremaining: 2m 19s\n",
      "18:\tlearn: 0.6327147\ttotal: 2.69s\tremaining: 2m 18s\n",
      "19:\tlearn: 0.6063248\ttotal: 2.8s\tremaining: 2m 17s\n",
      "20:\tlearn: 0.5791319\ttotal: 2.89s\tremaining: 2m 14s\n",
      "21:\tlearn: 0.5528079\ttotal: 3s\tremaining: 2m 13s\n",
      "22:\tlearn: 0.5322760\ttotal: 3.1s\tremaining: 2m 11s\n",
      "23:\tlearn: 0.5095196\ttotal: 3.19s\tremaining: 2m 9s\n",
      "24:\tlearn: 0.4911095\ttotal: 3.29s\tremaining: 2m 8s\n",
      "25:\tlearn: 0.4733265\ttotal: 3.39s\tremaining: 2m 6s\n",
      "26:\tlearn: 0.4533375\ttotal: 3.49s\tremaining: 2m 5s\n",
      "27:\tlearn: 0.4386235\ttotal: 3.6s\tremaining: 2m 4s\n",
      "28:\tlearn: 0.4243598\ttotal: 3.7s\tremaining: 2m 4s\n",
      "29:\tlearn: 0.4111854\ttotal: 3.79s\tremaining: 2m 2s\n",
      "30:\tlearn: 0.3992447\ttotal: 3.89s\tremaining: 2m 1s\n",
      "31:\tlearn: 0.3908550\ttotal: 3.98s\tremaining: 2m\n",
      "32:\tlearn: 0.3798159\ttotal: 4.08s\tremaining: 1m 59s\n",
      "33:\tlearn: 0.3741880\ttotal: 4.17s\tremaining: 1m 58s\n",
      "34:\tlearn: 0.3663117\ttotal: 4.21s\tremaining: 1m 56s\n",
      "35:\tlearn: 0.3587980\ttotal: 4.3s\tremaining: 1m 55s\n",
      "36:\tlearn: 0.3524068\ttotal: 4.38s\tremaining: 1m 54s\n",
      "37:\tlearn: 0.3496052\ttotal: 4.46s\tremaining: 1m 52s\n",
      "38:\tlearn: 0.3424078\ttotal: 4.58s\tremaining: 1m 52s\n",
      "39:\tlearn: 0.3408556\ttotal: 4.65s\tremaining: 1m 51s\n",
      "40:\tlearn: 0.3356375\ttotal: 4.75s\tremaining: 1m 51s\n",
      "41:\tlearn: 0.3308689\ttotal: 4.81s\tremaining: 1m 49s\n",
      "42:\tlearn: 0.3274906\ttotal: 4.9s\tremaining: 1m 49s\n",
      "43:\tlearn: 0.3267700\ttotal: 4.98s\tremaining: 1m 48s\n",
      "44:\tlearn: 0.3229664\ttotal: 5.09s\tremaining: 1m 48s\n",
      "45:\tlearn: 0.3208726\ttotal: 5.17s\tremaining: 1m 47s\n",
      "46:\tlearn: 0.3193562\ttotal: 5.23s\tremaining: 1m 45s\n",
      "47:\tlearn: 0.3156455\ttotal: 5.36s\tremaining: 1m 46s\n",
      "48:\tlearn: 0.3140608\ttotal: 5.44s\tremaining: 1m 45s\n",
      "49:\tlearn: 0.3135142\ttotal: 5.48s\tremaining: 1m 44s\n",
      "50:\tlearn: 0.3125444\ttotal: 5.55s\tremaining: 1m 43s\n",
      "51:\tlearn: 0.3079632\ttotal: 5.65s\tremaining: 1m 43s\n",
      "52:\tlearn: 0.3040857\ttotal: 5.78s\tremaining: 1m 43s\n",
      "53:\tlearn: 0.3013221\ttotal: 5.87s\tremaining: 1m 42s\n",
      "54:\tlearn: 0.3002134\ttotal: 5.92s\tremaining: 1m 41s\n",
      "55:\tlearn: 0.2993854\ttotal: 6s\tremaining: 1m 41s\n",
      "56:\tlearn: 0.2981349\ttotal: 6.07s\tremaining: 1m 40s\n",
      "57:\tlearn: 0.2952031\ttotal: 6.18s\tremaining: 1m 40s\n",
      "58:\tlearn: 0.2947943\ttotal: 6.26s\tremaining: 1m 39s\n",
      "59:\tlearn: 0.2940382\ttotal: 6.3s\tremaining: 1m 38s\n",
      "60:\tlearn: 0.2926865\ttotal: 6.39s\tremaining: 1m 38s\n",
      "61:\tlearn: 0.2915871\ttotal: 6.49s\tremaining: 1m 38s\n",
      "62:\tlearn: 0.2908068\ttotal: 6.6s\tremaining: 1m 38s\n",
      "63:\tlearn: 0.2874273\ttotal: 6.7s\tremaining: 1m 37s\n",
      "64:\tlearn: 0.2871596\ttotal: 6.77s\tremaining: 1m 37s\n",
      "65:\tlearn: 0.2864698\ttotal: 6.83s\tremaining: 1m 36s\n",
      "66:\tlearn: 0.2855150\ttotal: 6.92s\tremaining: 1m 36s\n",
      "67:\tlearn: 0.2846940\ttotal: 7.01s\tremaining: 1m 36s\n",
      "68:\tlearn: 0.2838396\ttotal: 7.1s\tremaining: 1m 35s\n",
      "69:\tlearn: 0.2833657\ttotal: 7.24s\tremaining: 1m 36s\n",
      "70:\tlearn: 0.2810074\ttotal: 7.33s\tremaining: 1m 35s\n",
      "71:\tlearn: 0.2804355\ttotal: 7.37s\tremaining: 1m 34s\n",
      "72:\tlearn: 0.2799649\ttotal: 7.41s\tremaining: 1m 34s\n",
      "73:\tlearn: 0.2788674\ttotal: 7.5s\tremaining: 1m 33s\n",
      "74:\tlearn: 0.2777768\ttotal: 7.6s\tremaining: 1m 33s\n",
      "75:\tlearn: 0.2769156\ttotal: 7.68s\tremaining: 1m 33s\n",
      "76:\tlearn: 0.2767218\ttotal: 7.75s\tremaining: 1m 32s\n",
      "77:\tlearn: 0.2760417\ttotal: 7.85s\tremaining: 1m 32s\n",
      "78:\tlearn: 0.2758922\ttotal: 7.88s\tremaining: 1m 31s\n",
      "79:\tlearn: 0.2754935\ttotal: 7.96s\tremaining: 1m 31s\n",
      "80:\tlearn: 0.2742013\ttotal: 8.06s\tremaining: 1m 31s\n",
      "81:\tlearn: 0.2736787\ttotal: 8.1s\tremaining: 1m 30s\n",
      "82:\tlearn: 0.2722899\ttotal: 8.18s\tremaining: 1m 30s\n",
      "83:\tlearn: 0.2706151\ttotal: 8.26s\tremaining: 1m 30s\n",
      "84:\tlearn: 0.2705057\ttotal: 8.31s\tremaining: 1m 29s\n",
      "85:\tlearn: 0.2705154\ttotal: 8.45s\tremaining: 1m 29s\n",
      "86:\tlearn: 0.2703314\ttotal: 8.49s\tremaining: 1m 29s\n",
      "87:\tlearn: 0.2700344\ttotal: 8.54s\tremaining: 1m 28s\n",
      "88:\tlearn: 0.2697422\ttotal: 8.62s\tremaining: 1m 28s\n",
      "89:\tlearn: 0.2696246\ttotal: 8.7s\tremaining: 1m 27s\n",
      "90:\tlearn: 0.2692781\ttotal: 8.83s\tremaining: 1m 28s\n",
      "91:\tlearn: 0.2686834\ttotal: 8.9s\tremaining: 1m 27s\n",
      "92:\tlearn: 0.2667792\ttotal: 9.03s\tremaining: 1m 28s\n",
      "93:\tlearn: 0.2655349\ttotal: 9.16s\tremaining: 1m 28s\n",
      "94:\tlearn: 0.2647697\ttotal: 9.24s\tremaining: 1m 28s\n",
      "95:\tlearn: 0.2638426\ttotal: 9.29s\tremaining: 1m 27s\n",
      "96:\tlearn: 0.2635655\ttotal: 9.33s\tremaining: 1m 26s\n",
      "97:\tlearn: 0.2631109\ttotal: 9.45s\tremaining: 1m 26s\n",
      "98:\tlearn: 0.2620119\ttotal: 9.54s\tremaining: 1m 26s\n",
      "99:\tlearn: 0.2619037\ttotal: 9.66s\tremaining: 1m 26s\n",
      "100:\tlearn: 0.2617901\ttotal: 9.74s\tremaining: 1m 26s\n",
      "101:\tlearn: 0.2613249\ttotal: 9.79s\tremaining: 1m 26s\n",
      "102:\tlearn: 0.2586757\ttotal: 9.88s\tremaining: 1m 26s\n",
      "103:\tlearn: 0.2584223\ttotal: 9.99s\tremaining: 1m 26s\n",
      "104:\tlearn: 0.2580168\ttotal: 10.1s\tremaining: 1m 25s\n",
      "105:\tlearn: 0.2568939\ttotal: 10.2s\tremaining: 1m 26s\n",
      "106:\tlearn: 0.2567231\ttotal: 10.2s\tremaining: 1m 25s\n",
      "107:\tlearn: 0.2562216\ttotal: 10.3s\tremaining: 1m 25s\n",
      "108:\tlearn: 0.2561714\ttotal: 10.4s\tremaining: 1m 24s\n",
      "109:\tlearn: 0.2559493\ttotal: 10.5s\tremaining: 1m 24s\n",
      "110:\tlearn: 0.2559046\ttotal: 10.5s\tremaining: 1m 24s\n",
      "111:\tlearn: 0.2559607\ttotal: 10.6s\tremaining: 1m 23s\n",
      "112:\tlearn: 0.2558673\ttotal: 10.6s\tremaining: 1m 23s\n",
      "113:\tlearn: 0.2557560\ttotal: 10.8s\tremaining: 1m 23s\n",
      "114:\tlearn: 0.2556678\ttotal: 10.8s\tremaining: 1m 23s\n",
      "115:\tlearn: 0.2553637\ttotal: 10.9s\tremaining: 1m 22s\n",
      "116:\tlearn: 0.2549578\ttotal: 11s\tremaining: 1m 22s\n",
      "117:\tlearn: 0.2547761\ttotal: 11s\tremaining: 1m 22s\n",
      "118:\tlearn: 0.2544798\ttotal: 11.1s\tremaining: 1m 21s\n",
      "119:\tlearn: 0.2543687\ttotal: 11.1s\tremaining: 1m 21s\n",
      "120:\tlearn: 0.2540899\ttotal: 11.2s\tremaining: 1m 21s\n",
      "121:\tlearn: 0.2540108\ttotal: 11.2s\tremaining: 1m 20s\n",
      "122:\tlearn: 0.2536268\ttotal: 11.3s\tremaining: 1m 20s\n",
      "123:\tlearn: 0.2534768\ttotal: 11.4s\tremaining: 1m 20s\n",
      "124:\tlearn: 0.2534089\ttotal: 11.4s\tremaining: 1m 19s\n",
      "125:\tlearn: 0.2529312\ttotal: 11.5s\tremaining: 1m 19s\n",
      "126:\tlearn: 0.2526916\ttotal: 11.5s\tremaining: 1m 19s\n",
      "127:\tlearn: 0.2525781\ttotal: 11.6s\tremaining: 1m 18s\n",
      "128:\tlearn: 0.2526068\ttotal: 11.6s\tremaining: 1m 18s\n",
      "129:\tlearn: 0.2521108\ttotal: 11.7s\tremaining: 1m 18s\n",
      "130:\tlearn: 0.2517825\ttotal: 11.7s\tremaining: 1m 17s\n",
      "131:\tlearn: 0.2517476\ttotal: 11.8s\tremaining: 1m 17s\n",
      "132:\tlearn: 0.2509010\ttotal: 11.9s\tremaining: 1m 17s\n",
      "133:\tlearn: 0.2509060\ttotal: 11.9s\tremaining: 1m 16s\n",
      "134:\tlearn: 0.2509046\ttotal: 12s\tremaining: 1m 16s\n",
      "135:\tlearn: 0.2507354\ttotal: 12.1s\tremaining: 1m 16s\n",
      "136:\tlearn: 0.2506190\ttotal: 12.1s\tremaining: 1m 16s\n",
      "137:\tlearn: 0.2504015\ttotal: 12.2s\tremaining: 1m 16s\n",
      "138:\tlearn: 0.2503847\ttotal: 12.2s\tremaining: 1m 15s\n",
      "139:\tlearn: 0.2501894\ttotal: 12.3s\tremaining: 1m 15s\n",
      "140:\tlearn: 0.2499944\ttotal: 12.4s\tremaining: 1m 15s\n",
      "141:\tlearn: 0.2488544\ttotal: 12.5s\tremaining: 1m 15s\n",
      "142:\tlearn: 0.2486739\ttotal: 12.6s\tremaining: 1m 15s\n",
      "143:\tlearn: 0.2482129\ttotal: 12.7s\tremaining: 1m 15s\n",
      "144:\tlearn: 0.2482108\ttotal: 12.8s\tremaining: 1m 15s\n",
      "145:\tlearn: 0.2479590\ttotal: 12.9s\tremaining: 1m 15s\n",
      "146:\tlearn: 0.2467426\ttotal: 13s\tremaining: 1m 15s\n",
      "147:\tlearn: 0.2466615\ttotal: 13.1s\tremaining: 1m 15s\n",
      "148:\tlearn: 0.2464817\ttotal: 13.1s\tremaining: 1m 14s\n",
      "149:\tlearn: 0.2465390\ttotal: 13.2s\tremaining: 1m 14s\n",
      "150:\tlearn: 0.2463485\ttotal: 13.2s\tremaining: 1m 14s\n",
      "151:\tlearn: 0.2463641\ttotal: 13.2s\tremaining: 1m 13s\n",
      "152:\tlearn: 0.2458268\ttotal: 13.3s\tremaining: 1m 13s\n",
      "153:\tlearn: 0.2456497\ttotal: 13.4s\tremaining: 1m 13s\n",
      "154:\tlearn: 0.2455009\ttotal: 13.5s\tremaining: 1m 13s\n",
      "155:\tlearn: 0.2453891\ttotal: 13.5s\tremaining: 1m 13s\n",
      "156:\tlearn: 0.2453667\ttotal: 13.6s\tremaining: 1m 12s\n",
      "157:\tlearn: 0.2451088\ttotal: 13.6s\tremaining: 1m 12s\n",
      "158:\tlearn: 0.2449219\ttotal: 13.7s\tremaining: 1m 12s\n",
      "159:\tlearn: 0.2449106\ttotal: 13.8s\tremaining: 1m 12s\n",
      "160:\tlearn: 0.2447575\ttotal: 13.9s\tremaining: 1m 12s\n",
      "161:\tlearn: 0.2439213\ttotal: 14s\tremaining: 1m 12s\n",
      "162:\tlearn: 0.2438049\ttotal: 14.1s\tremaining: 1m 12s\n",
      "163:\tlearn: 0.2437570\ttotal: 14.1s\tremaining: 1m 12s\n",
      "164:\tlearn: 0.2435931\ttotal: 14.2s\tremaining: 1m 11s\n",
      "165:\tlearn: 0.2435552\ttotal: 14.3s\tremaining: 1m 11s\n",
      "166:\tlearn: 0.2434554\ttotal: 14.3s\tremaining: 1m 11s\n",
      "167:\tlearn: 0.2433046\ttotal: 14.4s\tremaining: 1m 11s\n",
      "168:\tlearn: 0.2425248\ttotal: 14.5s\tremaining: 1m 11s\n",
      "169:\tlearn: 0.2417775\ttotal: 14.6s\tremaining: 1m 11s\n",
      "170:\tlearn: 0.2415376\ttotal: 14.7s\tremaining: 1m 11s\n",
      "171:\tlearn: 0.2414265\ttotal: 14.8s\tremaining: 1m 11s\n",
      "172:\tlearn: 0.2413873\ttotal: 14.8s\tremaining: 1m 10s\n",
      "173:\tlearn: 0.2398639\ttotal: 14.9s\tremaining: 1m 10s\n",
      "174:\tlearn: 0.2397766\ttotal: 14.9s\tremaining: 1m 10s\n",
      "175:\tlearn: 0.2396697\ttotal: 15s\tremaining: 1m 10s\n",
      "176:\tlearn: 0.2395272\ttotal: 15s\tremaining: 1m 9s\n",
      "177:\tlearn: 0.2395568\ttotal: 15.1s\tremaining: 1m 9s\n",
      "178:\tlearn: 0.2394065\ttotal: 15.2s\tremaining: 1m 9s\n",
      "179:\tlearn: 0.2394068\ttotal: 15.2s\tremaining: 1m 9s\n",
      "180:\tlearn: 0.2392488\ttotal: 15.3s\tremaining: 1m 9s\n",
      "181:\tlearn: 0.2391479\ttotal: 15.3s\tremaining: 1m 8s\n",
      "182:\tlearn: 0.2386061\ttotal: 15.4s\tremaining: 1m 8s\n",
      "183:\tlearn: 0.2385643\ttotal: 15.5s\tremaining: 1m 8s\n",
      "184:\tlearn: 0.2385298\ttotal: 15.5s\tremaining: 1m 8s\n",
      "185:\tlearn: 0.2383384\ttotal: 15.6s\tremaining: 1m 8s\n",
      "186:\tlearn: 0.2383063\ttotal: 15.6s\tremaining: 1m 7s\n",
      "187:\tlearn: 0.2382039\ttotal: 15.7s\tremaining: 1m 7s\n",
      "188:\tlearn: 0.2381931\ttotal: 15.7s\tremaining: 1m 7s\n",
      "189:\tlearn: 0.2382056\ttotal: 15.8s\tremaining: 1m 7s\n",
      "190:\tlearn: 0.2382033\ttotal: 15.9s\tremaining: 1m 7s\n",
      "191:\tlearn: 0.2381331\ttotal: 15.9s\tremaining: 1m 7s\n",
      "192:\tlearn: 0.2381335\ttotal: 16s\tremaining: 1m 6s\n",
      "193:\tlearn: 0.2379565\ttotal: 16s\tremaining: 1m 6s\n",
      "194:\tlearn: 0.2379306\ttotal: 16.1s\tremaining: 1m 6s\n",
      "195:\tlearn: 0.2378879\ttotal: 16.1s\tremaining: 1m 6s\n",
      "196:\tlearn: 0.2378622\ttotal: 16.2s\tremaining: 1m 5s\n",
      "197:\tlearn: 0.2376740\ttotal: 16.3s\tremaining: 1m 5s\n",
      "198:\tlearn: 0.2376989\ttotal: 16.3s\tremaining: 1m 5s\n",
      "199:\tlearn: 0.2377140\ttotal: 16.4s\tremaining: 1m 5s\n",
      "200:\tlearn: 0.2364539\ttotal: 16.5s\tremaining: 1m 5s\n",
      "201:\tlearn: 0.2362996\ttotal: 16.6s\tremaining: 1m 5s\n",
      "202:\tlearn: 0.2361096\ttotal: 16.6s\tremaining: 1m 5s\n",
      "203:\tlearn: 0.2360722\ttotal: 16.7s\tremaining: 1m 5s\n",
      "204:\tlearn: 0.2358922\ttotal: 16.8s\tremaining: 1m 4s\n",
      "205:\tlearn: 0.2358452\ttotal: 16.8s\tremaining: 1m 4s\n",
      "206:\tlearn: 0.2357165\ttotal: 16.9s\tremaining: 1m 4s\n",
      "207:\tlearn: 0.2357873\ttotal: 16.9s\tremaining: 1m 4s\n",
      "208:\tlearn: 0.2356582\ttotal: 17s\tremaining: 1m 4s\n",
      "209:\tlearn: 0.2355777\ttotal: 17.1s\tremaining: 1m 4s\n",
      "210:\tlearn: 0.2351474\ttotal: 17.2s\tremaining: 1m 4s\n",
      "211:\tlearn: 0.2350888\ttotal: 17.3s\tremaining: 1m 4s\n",
      "212:\tlearn: 0.2345527\ttotal: 17.4s\tremaining: 1m 4s\n",
      "213:\tlearn: 0.2345090\ttotal: 17.4s\tremaining: 1m 3s\n",
      "214:\tlearn: 0.2335258\ttotal: 17.5s\tremaining: 1m 3s\n",
      "215:\tlearn: 0.2335051\ttotal: 17.6s\tremaining: 1m 3s\n",
      "216:\tlearn: 0.2334396\ttotal: 17.6s\tremaining: 1m 3s\n",
      "217:\tlearn: 0.2333500\ttotal: 17.7s\tremaining: 1m 3s\n",
      "218:\tlearn: 0.2333454\ttotal: 17.7s\tremaining: 1m 3s\n",
      "219:\tlearn: 0.2319059\ttotal: 17.9s\tremaining: 1m 3s\n",
      "220:\tlearn: 0.2317497\ttotal: 17.9s\tremaining: 1m 3s\n",
      "221:\tlearn: 0.2317602\ttotal: 18s\tremaining: 1m 2s\n",
      "222:\tlearn: 0.2317334\ttotal: 18s\tremaining: 1m 2s\n",
      "223:\tlearn: 0.2315670\ttotal: 18.1s\tremaining: 1m 2s\n",
      "224:\tlearn: 0.2314575\ttotal: 18.1s\tremaining: 1m 2s\n",
      "225:\tlearn: 0.2314012\ttotal: 18.2s\tremaining: 1m 2s\n",
      "226:\tlearn: 0.2313612\ttotal: 18.3s\tremaining: 1m 2s\n",
      "227:\tlearn: 0.2313761\ttotal: 18.4s\tremaining: 1m 2s\n",
      "228:\tlearn: 0.2313244\ttotal: 18.4s\tremaining: 1m 2s\n",
      "229:\tlearn: 0.2312888\ttotal: 18.5s\tremaining: 1m 1s\n",
      "230:\tlearn: 0.2312419\ttotal: 18.5s\tremaining: 1m 1s\n",
      "231:\tlearn: 0.2312779\ttotal: 18.6s\tremaining: 1m 1s\n",
      "232:\tlearn: 0.2310163\ttotal: 18.6s\tremaining: 1m 1s\n",
      "233:\tlearn: 0.2310180\ttotal: 18.6s\tremaining: 1m 1s\n",
      "234:\tlearn: 0.2307637\ttotal: 18.7s\tremaining: 1m\n",
      "235:\tlearn: 0.2306674\ttotal: 18.8s\tremaining: 1m\n",
      "236:\tlearn: 0.2307013\ttotal: 18.8s\tremaining: 1m\n",
      "237:\tlearn: 0.2306711\ttotal: 18.9s\tremaining: 1m\n",
      "238:\tlearn: 0.2306365\ttotal: 19s\tremaining: 1m\n",
      "239:\tlearn: 0.2306122\ttotal: 19s\tremaining: 1m\n",
      "240:\tlearn: 0.2305436\ttotal: 19.1s\tremaining: 1m\n",
      "241:\tlearn: 0.2304424\ttotal: 19.2s\tremaining: 1m\n",
      "242:\tlearn: 0.2303768\ttotal: 19.2s\tremaining: 59.9s\n",
      "243:\tlearn: 0.2303354\ttotal: 19.3s\tremaining: 59.7s\n",
      "244:\tlearn: 0.2302990\ttotal: 19.3s\tremaining: 59.6s\n",
      "245:\tlearn: 0.2303441\ttotal: 19.4s\tremaining: 59.5s\n",
      "246:\tlearn: 0.2302808\ttotal: 19.4s\tremaining: 59.3s\n",
      "247:\tlearn: 0.2301945\ttotal: 19.5s\tremaining: 59.1s\n",
      "248:\tlearn: 0.2298999\ttotal: 19.6s\tremaining: 59.1s\n",
      "249:\tlearn: 0.2298789\ttotal: 19.6s\tremaining: 58.9s\n",
      "250:\tlearn: 0.2298000\ttotal: 19.7s\tremaining: 58.8s\n",
      "251:\tlearn: 0.2297300\ttotal: 19.8s\tremaining: 58.6s\n",
      "252:\tlearn: 0.2296856\ttotal: 19.8s\tremaining: 58.5s\n",
      "253:\tlearn: 0.2296513\ttotal: 19.8s\tremaining: 58.3s\n",
      "254:\tlearn: 0.2295615\ttotal: 19.9s\tremaining: 58.2s\n",
      "255:\tlearn: 0.2295189\ttotal: 20s\tremaining: 58s\n",
      "256:\tlearn: 0.2294704\ttotal: 20s\tremaining: 57.9s\n",
      "257:\tlearn: 0.2292796\ttotal: 20.1s\tremaining: 57.8s\n",
      "258:\tlearn: 0.2292585\ttotal: 20.2s\tremaining: 57.7s\n",
      "259:\tlearn: 0.2291432\ttotal: 20.2s\tremaining: 57.6s\n",
      "260:\tlearn: 0.2291348\ttotal: 20.3s\tremaining: 57.4s\n",
      "261:\tlearn: 0.2285717\ttotal: 20.4s\tremaining: 57.4s\n",
      "262:\tlearn: 0.2285068\ttotal: 20.5s\tremaining: 57.4s\n",
      "263:\tlearn: 0.2283169\ttotal: 20.5s\tremaining: 57.2s\n",
      "264:\tlearn: 0.2283181\ttotal: 20.6s\tremaining: 57s\n",
      "265:\tlearn: 0.2283665\ttotal: 20.6s\tremaining: 56.9s\n",
      "266:\tlearn: 0.2283552\ttotal: 20.7s\tremaining: 56.8s\n",
      "267:\tlearn: 0.2283110\ttotal: 20.8s\tremaining: 56.7s\n",
      "268:\tlearn: 0.2282749\ttotal: 20.8s\tremaining: 56.6s\n",
      "269:\tlearn: 0.2282410\ttotal: 20.9s\tremaining: 56.5s\n",
      "270:\tlearn: 0.2282340\ttotal: 21s\tremaining: 56.5s\n",
      "271:\tlearn: 0.2281405\ttotal: 21s\tremaining: 56.3s\n",
      "272:\tlearn: 0.2280401\ttotal: 21.1s\tremaining: 56.2s\n",
      "273:\tlearn: 0.2280315\ttotal: 21.2s\tremaining: 56.1s\n",
      "274:\tlearn: 0.2280272\ttotal: 21.2s\tremaining: 55.9s\n",
      "275:\tlearn: 0.2279616\ttotal: 21.3s\tremaining: 55.8s\n",
      "276:\tlearn: 0.2279785\ttotal: 21.4s\tremaining: 55.8s\n",
      "277:\tlearn: 0.2279404\ttotal: 21.4s\tremaining: 55.6s\n",
      "278:\tlearn: 0.2279417\ttotal: 21.5s\tremaining: 55.5s\n",
      "279:\tlearn: 0.2279545\ttotal: 21.5s\tremaining: 55.3s\n",
      "280:\tlearn: 0.2279091\ttotal: 21.6s\tremaining: 55.2s\n",
      "281:\tlearn: 0.2279247\ttotal: 21.6s\tremaining: 55s\n",
      "282:\tlearn: 0.2278775\ttotal: 21.7s\tremaining: 54.9s\n",
      "283:\tlearn: 0.2274361\ttotal: 21.8s\tremaining: 54.9s\n",
      "284:\tlearn: 0.2273861\ttotal: 21.8s\tremaining: 54.7s\n",
      "285:\tlearn: 0.2273542\ttotal: 21.9s\tremaining: 54.6s\n",
      "286:\tlearn: 0.2270222\ttotal: 21.9s\tremaining: 54.5s\n",
      "287:\tlearn: 0.2269618\ttotal: 22s\tremaining: 54.4s\n",
      "288:\tlearn: 0.2270686\ttotal: 22.1s\tremaining: 54.3s\n",
      "289:\tlearn: 0.2269129\ttotal: 22.1s\tremaining: 54.2s\n",
      "290:\tlearn: 0.2269208\ttotal: 22.2s\tremaining: 54.1s\n",
      "291:\tlearn: 0.2270355\ttotal: 22.3s\tremaining: 54s\n",
      "292:\tlearn: 0.2269082\ttotal: 22.4s\tremaining: 54s\n",
      "293:\tlearn: 0.2268495\ttotal: 22.4s\tremaining: 53.8s\n",
      "294:\tlearn: 0.2268404\ttotal: 22.5s\tremaining: 53.7s\n",
      "295:\tlearn: 0.2268047\ttotal: 22.5s\tremaining: 53.6s\n",
      "296:\tlearn: 0.2265697\ttotal: 22.6s\tremaining: 53.5s\n",
      "297:\tlearn: 0.2264969\ttotal: 22.7s\tremaining: 53.4s\n",
      "298:\tlearn: 0.2263135\ttotal: 22.7s\tremaining: 53.2s\n",
      "299:\tlearn: 0.2262308\ttotal: 22.7s\tremaining: 53.1s\n",
      "300:\tlearn: 0.2261704\ttotal: 22.8s\tremaining: 53s\n",
      "301:\tlearn: 0.2261664\ttotal: 22.9s\tremaining: 52.9s\n",
      "302:\tlearn: 0.2261467\ttotal: 22.9s\tremaining: 52.7s\n",
      "303:\tlearn: 0.2261725\ttotal: 23s\tremaining: 52.6s\n",
      "304:\tlearn: 0.2261914\ttotal: 23s\tremaining: 52.5s\n",
      "305:\tlearn: 0.2261824\ttotal: 23.1s\tremaining: 52.3s\n",
      "306:\tlearn: 0.2261799\ttotal: 23.1s\tremaining: 52.2s\n",
      "307:\tlearn: 0.2259509\ttotal: 23.2s\tremaining: 52.2s\n",
      "308:\tlearn: 0.2259108\ttotal: 23.3s\tremaining: 52s\n",
      "309:\tlearn: 0.2259236\ttotal: 23.3s\tremaining: 51.9s\n",
      "310:\tlearn: 0.2259010\ttotal: 23.3s\tremaining: 51.7s\n",
      "311:\tlearn: 0.2258778\ttotal: 23.4s\tremaining: 51.6s\n",
      "312:\tlearn: 0.2258942\ttotal: 23.5s\tremaining: 51.5s\n",
      "313:\tlearn: 0.2249770\ttotal: 23.6s\tremaining: 51.5s\n",
      "314:\tlearn: 0.2250100\ttotal: 23.6s\tremaining: 51.4s\n",
      "315:\tlearn: 0.2249218\ttotal: 23.7s\tremaining: 51.2s\n",
      "316:\tlearn: 0.2249027\ttotal: 23.7s\tremaining: 51.1s\n",
      "317:\tlearn: 0.2248575\ttotal: 23.8s\tremaining: 51s\n",
      "318:\tlearn: 0.2248828\ttotal: 23.9s\tremaining: 50.9s\n",
      "319:\tlearn: 0.2248599\ttotal: 23.9s\tremaining: 50.8s\n",
      "320:\tlearn: 0.2248924\ttotal: 24s\tremaining: 50.7s\n",
      "321:\tlearn: 0.2248151\ttotal: 24s\tremaining: 50.5s\n",
      "322:\tlearn: 0.2247560\ttotal: 24.1s\tremaining: 50.4s\n",
      "323:\tlearn: 0.2246956\ttotal: 24.1s\tremaining: 50.3s\n",
      "324:\tlearn: 0.2246935\ttotal: 24.1s\tremaining: 50.1s\n",
      "325:\tlearn: 0.2246658\ttotal: 24.2s\tremaining: 50s\n",
      "326:\tlearn: 0.2246199\ttotal: 24.2s\tremaining: 49.9s\n",
      "327:\tlearn: 0.2245877\ttotal: 24.3s\tremaining: 49.7s\n",
      "328:\tlearn: 0.2245678\ttotal: 24.3s\tremaining: 49.6s\n",
      "329:\tlearn: 0.2244388\ttotal: 24.4s\tremaining: 49.5s\n",
      "330:\tlearn: 0.2240148\ttotal: 24.5s\tremaining: 49.5s\n",
      "331:\tlearn: 0.2239626\ttotal: 24.6s\tremaining: 49.4s\n",
      "332:\tlearn: 0.2238897\ttotal: 24.6s\tremaining: 49.3s\n",
      "333:\tlearn: 0.2238873\ttotal: 24.6s\tremaining: 49.1s\n",
      "334:\tlearn: 0.2238235\ttotal: 24.7s\tremaining: 49s\n",
      "335:\tlearn: 0.2238139\ttotal: 24.8s\tremaining: 48.9s\n",
      "336:\tlearn: 0.2235189\ttotal: 24.9s\tremaining: 48.9s\n",
      "337:\tlearn: 0.2234760\ttotal: 24.9s\tremaining: 48.8s\n",
      "338:\tlearn: 0.2234693\ttotal: 25s\tremaining: 48.7s\n",
      "339:\tlearn: 0.2232800\ttotal: 25s\tremaining: 48.6s\n",
      "340:\tlearn: 0.2232208\ttotal: 25.1s\tremaining: 48.4s\n",
      "341:\tlearn: 0.2231716\ttotal: 25.1s\tremaining: 48.3s\n",
      "342:\tlearn: 0.2227713\ttotal: 25.2s\tremaining: 48.3s\n",
      "343:\tlearn: 0.2227288\ttotal: 25.3s\tremaining: 48.2s\n",
      "344:\tlearn: 0.2227489\ttotal: 25.3s\tremaining: 48.1s\n",
      "345:\tlearn: 0.2226894\ttotal: 25.4s\tremaining: 48s\n",
      "346:\tlearn: 0.2222308\ttotal: 25.5s\tremaining: 47.9s\n",
      "347:\tlearn: 0.2223266\ttotal: 25.5s\tremaining: 47.8s\n",
      "348:\tlearn: 0.2223479\ttotal: 25.6s\tremaining: 47.7s\n",
      "349:\tlearn: 0.2223228\ttotal: 25.6s\tremaining: 47.6s\n",
      "350:\tlearn: 0.2222397\ttotal: 25.7s\tremaining: 47.4s\n",
      "351:\tlearn: 0.2221977\ttotal: 25.7s\tremaining: 47.3s\n",
      "352:\tlearn: 0.2219229\ttotal: 25.8s\tremaining: 47.3s\n",
      "353:\tlearn: 0.2219336\ttotal: 25.8s\tremaining: 47.2s\n",
      "354:\tlearn: 0.2219006\ttotal: 25.9s\tremaining: 47s\n",
      "355:\tlearn: 0.2218732\ttotal: 26s\tremaining: 47s\n",
      "356:\tlearn: 0.2218206\ttotal: 26s\tremaining: 46.9s\n",
      "357:\tlearn: 0.2216853\ttotal: 26.1s\tremaining: 46.7s\n",
      "358:\tlearn: 0.2216633\ttotal: 26.1s\tremaining: 46.6s\n",
      "359:\tlearn: 0.2215163\ttotal: 26.2s\tremaining: 46.6s\n",
      "360:\tlearn: 0.2215421\ttotal: 26.3s\tremaining: 46.5s\n",
      "361:\tlearn: 0.2213804\ttotal: 26.4s\tremaining: 46.5s\n",
      "362:\tlearn: 0.2213579\ttotal: 26.4s\tremaining: 46.4s\n",
      "363:\tlearn: 0.2210853\ttotal: 26.5s\tremaining: 46.4s\n",
      "364:\tlearn: 0.2211024\ttotal: 26.6s\tremaining: 46.3s\n",
      "365:\tlearn: 0.2210548\ttotal: 26.6s\tremaining: 46.1s\n",
      "366:\tlearn: 0.2210215\ttotal: 26.7s\tremaining: 46s\n",
      "367:\tlearn: 0.2210515\ttotal: 26.8s\tremaining: 46s\n",
      "368:\tlearn: 0.2211040\ttotal: 26.8s\tremaining: 45.8s\n",
      "369:\tlearn: 0.2208645\ttotal: 26.9s\tremaining: 45.8s\n",
      "370:\tlearn: 0.2208385\ttotal: 26.9s\tremaining: 45.7s\n",
      "371:\tlearn: 0.2207185\ttotal: 27s\tremaining: 45.6s\n",
      "372:\tlearn: 0.2206840\ttotal: 27s\tremaining: 45.5s\n",
      "373:\tlearn: 0.2206403\ttotal: 27.1s\tremaining: 45.3s\n",
      "374:\tlearn: 0.2204644\ttotal: 27.1s\tremaining: 45.2s\n",
      "375:\tlearn: 0.2204275\ttotal: 27.2s\tremaining: 45.1s\n",
      "376:\tlearn: 0.2204091\ttotal: 27.2s\tremaining: 45s\n",
      "377:\tlearn: 0.2204076\ttotal: 27.3s\tremaining: 44.9s\n",
      "378:\tlearn: 0.2204068\ttotal: 27.4s\tremaining: 44.9s\n",
      "379:\tlearn: 0.2199888\ttotal: 27.5s\tremaining: 44.9s\n",
      "380:\tlearn: 0.2199646\ttotal: 27.6s\tremaining: 44.8s\n",
      "381:\tlearn: 0.2199425\ttotal: 27.6s\tremaining: 44.7s\n",
      "382:\tlearn: 0.2199271\ttotal: 27.7s\tremaining: 44.6s\n",
      "383:\tlearn: 0.2198591\ttotal: 27.7s\tremaining: 44.5s\n",
      "384:\tlearn: 0.2198258\ttotal: 27.8s\tremaining: 44.3s\n",
      "385:\tlearn: 0.2197653\ttotal: 27.8s\tremaining: 44.3s\n",
      "386:\tlearn: 0.2196036\ttotal: 27.9s\tremaining: 44.2s\n",
      "387:\tlearn: 0.2194937\ttotal: 28s\tremaining: 44.1s\n",
      "388:\tlearn: 0.2194859\ttotal: 28s\tremaining: 44s\n",
      "389:\tlearn: 0.2194778\ttotal: 28.1s\tremaining: 43.9s\n",
      "390:\tlearn: 0.2195113\ttotal: 28.1s\tremaining: 43.8s\n",
      "391:\tlearn: 0.2194884\ttotal: 28.2s\tremaining: 43.8s\n",
      "392:\tlearn: 0.2194499\ttotal: 28.3s\tremaining: 43.6s\n",
      "393:\tlearn: 0.2192836\ttotal: 28.4s\tremaining: 43.6s\n",
      "394:\tlearn: 0.2192512\ttotal: 28.4s\tremaining: 43.5s\n",
      "395:\tlearn: 0.2192430\ttotal: 28.4s\tremaining: 43.4s\n",
      "396:\tlearn: 0.2191183\ttotal: 28.5s\tremaining: 43.3s\n",
      "397:\tlearn: 0.2190600\ttotal: 28.6s\tremaining: 43.2s\n",
      "398:\tlearn: 0.2190540\ttotal: 28.6s\tremaining: 43.1s\n",
      "399:\tlearn: 0.2190272\ttotal: 28.7s\tremaining: 43s\n",
      "400:\tlearn: 0.2190365\ttotal: 28.7s\tremaining: 42.9s\n",
      "401:\tlearn: 0.2189193\ttotal: 28.8s\tremaining: 42.9s\n",
      "402:\tlearn: 0.2188957\ttotal: 28.9s\tremaining: 42.8s\n",
      "403:\tlearn: 0.2188680\ttotal: 28.9s\tremaining: 42.7s\n",
      "404:\tlearn: 0.2187876\ttotal: 29s\tremaining: 42.6s\n",
      "405:\tlearn: 0.2187588\ttotal: 29s\tremaining: 42.5s\n",
      "406:\tlearn: 0.2187563\ttotal: 29.1s\tremaining: 42.4s\n",
      "407:\tlearn: 0.2187537\ttotal: 29.2s\tremaining: 42.3s\n",
      "408:\tlearn: 0.2186991\ttotal: 29.3s\tremaining: 42.3s\n",
      "409:\tlearn: 0.2185506\ttotal: 29.3s\tremaining: 42.2s\n",
      "410:\tlearn: 0.2185412\ttotal: 29.3s\tremaining: 42.1s\n",
      "411:\tlearn: 0.2185322\ttotal: 29.4s\tremaining: 42s\n",
      "412:\tlearn: 0.2184955\ttotal: 29.5s\tremaining: 41.9s\n",
      "413:\tlearn: 0.2184331\ttotal: 29.5s\tremaining: 41.8s\n",
      "414:\tlearn: 0.2184256\ttotal: 29.6s\tremaining: 41.7s\n",
      "415:\tlearn: 0.2184108\ttotal: 29.6s\tremaining: 41.6s\n",
      "416:\tlearn: 0.2184025\ttotal: 29.7s\tremaining: 41.5s\n",
      "417:\tlearn: 0.2183464\ttotal: 29.7s\tremaining: 41.4s\n",
      "418:\tlearn: 0.2180090\ttotal: 29.8s\tremaining: 41.3s\n",
      "419:\tlearn: 0.2180264\ttotal: 29.9s\tremaining: 41.3s\n",
      "420:\tlearn: 0.2180251\ttotal: 29.9s\tremaining: 41.1s\n",
      "421:\tlearn: 0.2180278\ttotal: 30s\tremaining: 41.1s\n",
      "422:\tlearn: 0.2180120\ttotal: 30s\tremaining: 41s\n",
      "423:\tlearn: 0.2180404\ttotal: 30.1s\tremaining: 40.9s\n",
      "424:\tlearn: 0.2179648\ttotal: 30.2s\tremaining: 40.8s\n",
      "425:\tlearn: 0.2179015\ttotal: 30.3s\tremaining: 40.8s\n",
      "426:\tlearn: 0.2178741\ttotal: 30.3s\tremaining: 40.7s\n",
      "427:\tlearn: 0.2175841\ttotal: 30.4s\tremaining: 40.6s\n",
      "428:\tlearn: 0.2176144\ttotal: 30.4s\tremaining: 40.5s\n",
      "429:\tlearn: 0.2176283\ttotal: 30.5s\tremaining: 40.4s\n",
      "430:\tlearn: 0.2176026\ttotal: 30.5s\tremaining: 40.3s\n",
      "431:\tlearn: 0.2174891\ttotal: 30.6s\tremaining: 40.2s\n",
      "432:\tlearn: 0.2173694\ttotal: 30.7s\tremaining: 40.2s\n",
      "433:\tlearn: 0.2173490\ttotal: 30.7s\tremaining: 40.1s\n",
      "434:\tlearn: 0.2171805\ttotal: 30.8s\tremaining: 40s\n",
      "435:\tlearn: 0.2171671\ttotal: 30.8s\tremaining: 39.9s\n",
      "436:\tlearn: 0.2171457\ttotal: 30.9s\tremaining: 39.8s\n",
      "437:\tlearn: 0.2171225\ttotal: 30.9s\tremaining: 39.7s\n",
      "438:\tlearn: 0.2169911\ttotal: 30.9s\tremaining: 39.5s\n",
      "439:\tlearn: 0.2169921\ttotal: 31s\tremaining: 39.5s\n",
      "440:\tlearn: 0.2169471\ttotal: 31.1s\tremaining: 39.4s\n",
      "441:\tlearn: 0.2163963\ttotal: 31.2s\tremaining: 39.3s\n",
      "442:\tlearn: 0.2164727\ttotal: 31.3s\tremaining: 39.3s\n",
      "443:\tlearn: 0.2164708\ttotal: 31.3s\tremaining: 39.2s\n",
      "444:\tlearn: 0.2164405\ttotal: 31.4s\tremaining: 39.2s\n",
      "445:\tlearn: 0.2164481\ttotal: 31.5s\tremaining: 39.1s\n",
      "446:\tlearn: 0.2164177\ttotal: 31.6s\tremaining: 39s\n",
      "447:\tlearn: 0.2163998\ttotal: 31.6s\tremaining: 39s\n",
      "448:\tlearn: 0.2164049\ttotal: 31.7s\tremaining: 38.8s\n",
      "449:\tlearn: 0.2163930\ttotal: 31.7s\tremaining: 38.7s\n",
      "450:\tlearn: 0.2164336\ttotal: 31.8s\tremaining: 38.7s\n",
      "451:\tlearn: 0.2164081\ttotal: 31.8s\tremaining: 38.5s\n",
      "452:\tlearn: 0.2163927\ttotal: 31.8s\tremaining: 38.4s\n",
      "453:\tlearn: 0.2163828\ttotal: 31.9s\tremaining: 38.3s\n",
      "454:\tlearn: 0.2163181\ttotal: 31.9s\tremaining: 38.3s\n",
      "455:\tlearn: 0.2162996\ttotal: 32s\tremaining: 38.2s\n",
      "456:\tlearn: 0.2161943\ttotal: 32.1s\tremaining: 38.1s\n",
      "457:\tlearn: 0.2161910\ttotal: 32.1s\tremaining: 38s\n",
      "458:\tlearn: 0.2161512\ttotal: 32.2s\tremaining: 37.9s\n",
      "459:\tlearn: 0.2161289\ttotal: 32.2s\tremaining: 37.8s\n",
      "460:\tlearn: 0.2161574\ttotal: 32.3s\tremaining: 37.7s\n",
      "461:\tlearn: 0.2161182\ttotal: 32.3s\tremaining: 37.6s\n",
      "462:\tlearn: 0.2159893\ttotal: 32.4s\tremaining: 37.6s\n",
      "463:\tlearn: 0.2159562\ttotal: 32.4s\tremaining: 37.5s\n",
      "464:\tlearn: 0.2159655\ttotal: 32.5s\tremaining: 37.4s\n",
      "465:\tlearn: 0.2159721\ttotal: 32.5s\tremaining: 37.3s\n",
      "466:\tlearn: 0.2159085\ttotal: 32.6s\tremaining: 37.2s\n",
      "467:\tlearn: 0.2158801\ttotal: 32.6s\tremaining: 37.1s\n",
      "468:\tlearn: 0.2157705\ttotal: 32.7s\tremaining: 37s\n",
      "469:\tlearn: 0.2157375\ttotal: 32.8s\tremaining: 36.9s\n",
      "470:\tlearn: 0.2157023\ttotal: 32.8s\tremaining: 36.8s\n",
      "471:\tlearn: 0.2156907\ttotal: 32.8s\tremaining: 36.7s\n",
      "472:\tlearn: 0.2155840\ttotal: 32.9s\tremaining: 36.6s\n",
      "473:\tlearn: 0.2155483\ttotal: 33s\tremaining: 36.6s\n",
      "474:\tlearn: 0.2153807\ttotal: 33s\tremaining: 36.5s\n",
      "475:\tlearn: 0.2149180\ttotal: 33.1s\tremaining: 36.5s\n",
      "476:\tlearn: 0.2148892\ttotal: 33.2s\tremaining: 36.4s\n",
      "477:\tlearn: 0.2148502\ttotal: 33.2s\tremaining: 36.3s\n",
      "478:\tlearn: 0.2148329\ttotal: 33.3s\tremaining: 36.2s\n",
      "479:\tlearn: 0.2148336\ttotal: 33.3s\tremaining: 36.1s\n",
      "480:\tlearn: 0.2148498\ttotal: 33.4s\tremaining: 36s\n",
      "481:\tlearn: 0.2148238\ttotal: 33.4s\tremaining: 35.9s\n",
      "482:\tlearn: 0.2148409\ttotal: 33.5s\tremaining: 35.8s\n",
      "483:\tlearn: 0.2148119\ttotal: 33.5s\tremaining: 35.7s\n",
      "484:\tlearn: 0.2147781\ttotal: 33.6s\tremaining: 35.6s\n",
      "485:\tlearn: 0.2148064\ttotal: 33.6s\tremaining: 35.6s\n",
      "486:\tlearn: 0.2147878\ttotal: 33.7s\tremaining: 35.5s\n",
      "487:\tlearn: 0.2147819\ttotal: 33.7s\tremaining: 35.4s\n",
      "488:\tlearn: 0.2148114\ttotal: 33.8s\tremaining: 35.3s\n",
      "489:\tlearn: 0.2147798\ttotal: 33.8s\tremaining: 35.2s\n",
      "490:\tlearn: 0.2147614\ttotal: 33.9s\tremaining: 35.1s\n",
      "491:\tlearn: 0.2147092\ttotal: 33.9s\tremaining: 35s\n",
      "492:\tlearn: 0.2146749\ttotal: 34s\tremaining: 35s\n",
      "493:\tlearn: 0.2147093\ttotal: 34s\tremaining: 34.9s\n",
      "494:\tlearn: 0.2146778\ttotal: 34.1s\tremaining: 34.8s\n",
      "495:\tlearn: 0.2146805\ttotal: 34.2s\tremaining: 34.7s\n",
      "496:\tlearn: 0.2144010\ttotal: 34.3s\tremaining: 34.7s\n",
      "497:\tlearn: 0.2143721\ttotal: 34.3s\tremaining: 34.6s\n",
      "498:\tlearn: 0.2143647\ttotal: 34.4s\tremaining: 34.5s\n",
      "499:\tlearn: 0.2143133\ttotal: 34.5s\tremaining: 34.5s\n",
      "500:\tlearn: 0.2142103\ttotal: 34.5s\tremaining: 34.4s\n",
      "501:\tlearn: 0.2141822\ttotal: 34.6s\tremaining: 34.3s\n",
      "502:\tlearn: 0.2141776\ttotal: 34.6s\tremaining: 34.2s\n",
      "503:\tlearn: 0.2141189\ttotal: 34.7s\tremaining: 34.1s\n",
      "504:\tlearn: 0.2141109\ttotal: 34.7s\tremaining: 34s\n",
      "505:\tlearn: 0.2140539\ttotal: 34.8s\tremaining: 33.9s\n",
      "506:\tlearn: 0.2140496\ttotal: 34.8s\tremaining: 33.9s\n",
      "507:\tlearn: 0.2140504\ttotal: 34.9s\tremaining: 33.8s\n",
      "508:\tlearn: 0.2140493\ttotal: 34.9s\tremaining: 33.7s\n",
      "509:\tlearn: 0.2140489\ttotal: 35s\tremaining: 33.6s\n",
      "510:\tlearn: 0.2140893\ttotal: 35s\tremaining: 33.5s\n",
      "511:\tlearn: 0.2140838\ttotal: 35.1s\tremaining: 33.5s\n",
      "512:\tlearn: 0.2140950\ttotal: 35.2s\tremaining: 33.4s\n",
      "513:\tlearn: 0.2140792\ttotal: 35.2s\tremaining: 33.3s\n",
      "514:\tlearn: 0.2140234\ttotal: 35.3s\tremaining: 33.2s\n",
      "515:\tlearn: 0.2140113\ttotal: 35.3s\tremaining: 33.1s\n",
      "516:\tlearn: 0.2139893\ttotal: 35.3s\tremaining: 33s\n",
      "517:\tlearn: 0.2139604\ttotal: 35.4s\tremaining: 32.9s\n",
      "518:\tlearn: 0.2139697\ttotal: 35.4s\tremaining: 32.8s\n",
      "519:\tlearn: 0.2139488\ttotal: 35.5s\tremaining: 32.8s\n",
      "520:\tlearn: 0.2139008\ttotal: 35.5s\tremaining: 32.7s\n",
      "521:\tlearn: 0.2138836\ttotal: 35.6s\tremaining: 32.6s\n",
      "522:\tlearn: 0.2139433\ttotal: 35.7s\tremaining: 32.5s\n",
      "523:\tlearn: 0.2137885\ttotal: 35.7s\tremaining: 32.4s\n",
      "524:\tlearn: 0.2137052\ttotal: 35.8s\tremaining: 32.4s\n",
      "525:\tlearn: 0.2136390\ttotal: 35.8s\tremaining: 32.3s\n",
      "526:\tlearn: 0.2136408\ttotal: 35.9s\tremaining: 32.2s\n",
      "527:\tlearn: 0.2136550\ttotal: 36s\tremaining: 32.1s\n",
      "528:\tlearn: 0.2136155\ttotal: 36s\tremaining: 32.1s\n",
      "529:\tlearn: 0.2136042\ttotal: 36.1s\tremaining: 32s\n",
      "530:\tlearn: 0.2136081\ttotal: 36.1s\tremaining: 31.9s\n",
      "531:\tlearn: 0.2136274\ttotal: 36.1s\tremaining: 31.8s\n",
      "532:\tlearn: 0.2134414\ttotal: 36.3s\tremaining: 31.8s\n",
      "533:\tlearn: 0.2134111\ttotal: 36.3s\tremaining: 31.7s\n",
      "534:\tlearn: 0.2133914\ttotal: 36.4s\tremaining: 31.6s\n",
      "535:\tlearn: 0.2133511\ttotal: 36.4s\tremaining: 31.5s\n",
      "536:\tlearn: 0.2132422\ttotal: 36.5s\tremaining: 31.5s\n",
      "537:\tlearn: 0.2132294\ttotal: 36.5s\tremaining: 31.4s\n",
      "538:\tlearn: 0.2132178\ttotal: 36.6s\tremaining: 31.3s\n",
      "539:\tlearn: 0.2131041\ttotal: 36.7s\tremaining: 31.3s\n",
      "540:\tlearn: 0.2129036\ttotal: 36.8s\tremaining: 31.3s\n",
      "541:\tlearn: 0.2128804\ttotal: 36.9s\tremaining: 31.2s\n",
      "542:\tlearn: 0.2128319\ttotal: 36.9s\tremaining: 31.1s\n",
      "543:\tlearn: 0.2127913\ttotal: 37s\tremaining: 31s\n",
      "544:\tlearn: 0.2127913\ttotal: 37.1s\tremaining: 30.9s\n",
      "545:\tlearn: 0.2127718\ttotal: 37.1s\tremaining: 30.9s\n",
      "546:\tlearn: 0.2127558\ttotal: 37.1s\tremaining: 30.8s\n",
      "547:\tlearn: 0.2126397\ttotal: 37.2s\tremaining: 30.7s\n",
      "548:\tlearn: 0.2126531\ttotal: 37.2s\tremaining: 30.6s\n",
      "549:\tlearn: 0.2126558\ttotal: 37.3s\tremaining: 30.5s\n",
      "550:\tlearn: 0.2126482\ttotal: 37.4s\tremaining: 30.5s\n",
      "551:\tlearn: 0.2126162\ttotal: 37.4s\tremaining: 30.4s\n",
      "552:\tlearn: 0.2125989\ttotal: 37.5s\tremaining: 30.3s\n",
      "553:\tlearn: 0.2126415\ttotal: 37.6s\tremaining: 30.2s\n",
      "554:\tlearn: 0.2126521\ttotal: 37.6s\tremaining: 30.2s\n",
      "555:\tlearn: 0.2126387\ttotal: 37.7s\tremaining: 30.1s\n",
      "556:\tlearn: 0.2126154\ttotal: 37.7s\tremaining: 30s\n",
      "557:\tlearn: 0.2125935\ttotal: 37.8s\tremaining: 29.9s\n",
      "558:\tlearn: 0.2125874\ttotal: 37.8s\tremaining: 29.8s\n",
      "559:\tlearn: 0.2125842\ttotal: 37.9s\tremaining: 29.8s\n",
      "560:\tlearn: 0.2124763\ttotal: 38s\tremaining: 29.7s\n",
      "561:\tlearn: 0.2124671\ttotal: 38s\tremaining: 29.6s\n",
      "562:\tlearn: 0.2124470\ttotal: 38s\tremaining: 29.5s\n",
      "563:\tlearn: 0.2124348\ttotal: 38.1s\tremaining: 29.4s\n",
      "564:\tlearn: 0.2124239\ttotal: 38.1s\tremaining: 29.4s\n",
      "565:\tlearn: 0.2123945\ttotal: 38.2s\tremaining: 29.3s\n",
      "566:\tlearn: 0.2123727\ttotal: 38.2s\tremaining: 29.2s\n",
      "567:\tlearn: 0.2123878\ttotal: 38.3s\tremaining: 29.1s\n",
      "568:\tlearn: 0.2123841\ttotal: 38.4s\tremaining: 29.1s\n",
      "569:\tlearn: 0.2123052\ttotal: 38.4s\tremaining: 29s\n",
      "570:\tlearn: 0.2122690\ttotal: 38.5s\tremaining: 28.9s\n",
      "571:\tlearn: 0.2115688\ttotal: 38.6s\tremaining: 28.9s\n",
      "572:\tlearn: 0.2115335\ttotal: 38.6s\tremaining: 28.8s\n",
      "573:\tlearn: 0.2114852\ttotal: 38.7s\tremaining: 28.7s\n",
      "574:\tlearn: 0.2115032\ttotal: 38.7s\tremaining: 28.6s\n",
      "575:\tlearn: 0.2115054\ttotal: 38.8s\tremaining: 28.6s\n",
      "576:\tlearn: 0.2114904\ttotal: 38.8s\tremaining: 28.5s\n",
      "577:\tlearn: 0.2115017\ttotal: 38.9s\tremaining: 28.4s\n",
      "578:\tlearn: 0.2114223\ttotal: 39s\tremaining: 28.3s\n",
      "579:\tlearn: 0.2114090\ttotal: 39s\tremaining: 28.2s\n",
      "580:\tlearn: 0.2114160\ttotal: 39.1s\tremaining: 28.2s\n",
      "581:\tlearn: 0.2113955\ttotal: 39.1s\tremaining: 28.1s\n",
      "582:\tlearn: 0.2113610\ttotal: 39.2s\tremaining: 28s\n",
      "583:\tlearn: 0.2111121\ttotal: 39.3s\tremaining: 28s\n",
      "584:\tlearn: 0.2111104\ttotal: 39.3s\tremaining: 27.9s\n",
      "585:\tlearn: 0.2110859\ttotal: 39.4s\tremaining: 27.8s\n",
      "586:\tlearn: 0.2110547\ttotal: 39.4s\tremaining: 27.7s\n",
      "587:\tlearn: 0.2110014\ttotal: 39.5s\tremaining: 27.7s\n",
      "588:\tlearn: 0.2109905\ttotal: 39.5s\tremaining: 27.6s\n",
      "589:\tlearn: 0.2109704\ttotal: 39.6s\tremaining: 27.5s\n",
      "590:\tlearn: 0.2108756\ttotal: 39.7s\tremaining: 27.5s\n",
      "591:\tlearn: 0.2108617\ttotal: 39.7s\tremaining: 27.4s\n",
      "592:\tlearn: 0.2108753\ttotal: 39.8s\tremaining: 27.3s\n",
      "593:\tlearn: 0.2108401\ttotal: 39.8s\tremaining: 27.2s\n",
      "594:\tlearn: 0.2106599\ttotal: 39.9s\tremaining: 27.2s\n",
      "595:\tlearn: 0.2106501\ttotal: 40s\tremaining: 27.1s\n",
      "596:\tlearn: 0.2105943\ttotal: 40s\tremaining: 27s\n",
      "597:\tlearn: 0.2106015\ttotal: 40.1s\tremaining: 26.9s\n",
      "598:\tlearn: 0.2105904\ttotal: 40.1s\tremaining: 26.9s\n",
      "599:\tlearn: 0.2106010\ttotal: 40.2s\tremaining: 26.8s\n",
      "600:\tlearn: 0.2105871\ttotal: 40.2s\tremaining: 26.7s\n",
      "601:\tlearn: 0.2105966\ttotal: 40.2s\tremaining: 26.6s\n",
      "602:\tlearn: 0.2105538\ttotal: 40.3s\tremaining: 26.6s\n",
      "603:\tlearn: 0.2105690\ttotal: 40.4s\tremaining: 26.5s\n",
      "604:\tlearn: 0.2105754\ttotal: 40.4s\tremaining: 26.4s\n",
      "605:\tlearn: 0.2105855\ttotal: 40.5s\tremaining: 26.3s\n",
      "606:\tlearn: 0.2106154\ttotal: 40.6s\tremaining: 26.3s\n",
      "607:\tlearn: 0.2105907\ttotal: 40.6s\tremaining: 26.2s\n",
      "608:\tlearn: 0.2105907\ttotal: 40.7s\tremaining: 26.1s\n",
      "609:\tlearn: 0.2104449\ttotal: 40.8s\tremaining: 26.1s\n",
      "610:\tlearn: 0.2104372\ttotal: 40.8s\tremaining: 26s\n",
      "611:\tlearn: 0.2104068\ttotal: 40.9s\tremaining: 25.9s\n",
      "612:\tlearn: 0.2103051\ttotal: 41s\tremaining: 25.9s\n",
      "613:\tlearn: 0.2100646\ttotal: 41.1s\tremaining: 25.8s\n",
      "614:\tlearn: 0.2100481\ttotal: 41.1s\tremaining: 25.7s\n",
      "615:\tlearn: 0.2099949\ttotal: 41.2s\tremaining: 25.7s\n",
      "616:\tlearn: 0.2099902\ttotal: 41.2s\tremaining: 25.6s\n",
      "617:\tlearn: 0.2099901\ttotal: 41.2s\tremaining: 25.5s\n",
      "618:\tlearn: 0.2099808\ttotal: 41.3s\tremaining: 25.4s\n",
      "619:\tlearn: 0.2099551\ttotal: 41.3s\tremaining: 25.3s\n",
      "620:\tlearn: 0.2099926\ttotal: 41.4s\tremaining: 25.3s\n",
      "621:\tlearn: 0.2098542\ttotal: 41.5s\tremaining: 25.2s\n",
      "622:\tlearn: 0.2098291\ttotal: 41.6s\tremaining: 25.1s\n",
      "623:\tlearn: 0.2098126\ttotal: 41.6s\tremaining: 25.1s\n",
      "624:\tlearn: 0.2097142\ttotal: 41.7s\tremaining: 25s\n",
      "625:\tlearn: 0.2096841\ttotal: 41.8s\tremaining: 24.9s\n",
      "626:\tlearn: 0.2096430\ttotal: 41.8s\tremaining: 24.9s\n",
      "627:\tlearn: 0.2096119\ttotal: 41.8s\tremaining: 24.8s\n",
      "628:\tlearn: 0.2095838\ttotal: 41.9s\tremaining: 24.7s\n",
      "629:\tlearn: 0.2095903\ttotal: 42s\tremaining: 24.6s\n",
      "630:\tlearn: 0.2095762\ttotal: 42s\tremaining: 24.6s\n",
      "631:\tlearn: 0.2094756\ttotal: 42.1s\tremaining: 24.5s\n",
      "632:\tlearn: 0.2094657\ttotal: 42.1s\tremaining: 24.4s\n",
      "633:\tlearn: 0.2094402\ttotal: 42.2s\tremaining: 24.4s\n",
      "634:\tlearn: 0.2093206\ttotal: 42.3s\tremaining: 24.3s\n",
      "635:\tlearn: 0.2092906\ttotal: 42.3s\tremaining: 24.2s\n",
      "636:\tlearn: 0.2092803\ttotal: 42.3s\tremaining: 24.1s\n",
      "637:\tlearn: 0.2092826\ttotal: 42.4s\tremaining: 24s\n",
      "638:\tlearn: 0.2092259\ttotal: 42.4s\tremaining: 24s\n",
      "639:\tlearn: 0.2090272\ttotal: 42.5s\tremaining: 23.9s\n",
      "640:\tlearn: 0.2089890\ttotal: 42.6s\tremaining: 23.9s\n",
      "641:\tlearn: 0.2089594\ttotal: 42.6s\tremaining: 23.8s\n",
      "642:\tlearn: 0.2089579\ttotal: 42.7s\tremaining: 23.7s\n",
      "643:\tlearn: 0.2089293\ttotal: 42.8s\tremaining: 23.7s\n",
      "644:\tlearn: 0.2089140\ttotal: 42.8s\tremaining: 23.6s\n",
      "645:\tlearn: 0.2088375\ttotal: 42.9s\tremaining: 23.5s\n",
      "646:\tlearn: 0.2088177\ttotal: 43s\tremaining: 23.5s\n",
      "647:\tlearn: 0.2087054\ttotal: 43.1s\tremaining: 23.4s\n",
      "648:\tlearn: 0.2087100\ttotal: 43.1s\tremaining: 23.3s\n",
      "649:\tlearn: 0.2086775\ttotal: 43.2s\tremaining: 23.3s\n",
      "650:\tlearn: 0.2086144\ttotal: 43.2s\tremaining: 23.2s\n",
      "651:\tlearn: 0.2086196\ttotal: 43.3s\tremaining: 23.1s\n",
      "652:\tlearn: 0.2086419\ttotal: 43.4s\tremaining: 23.1s\n",
      "653:\tlearn: 0.2086071\ttotal: 43.4s\tremaining: 23s\n",
      "654:\tlearn: 0.2086019\ttotal: 43.5s\tremaining: 22.9s\n",
      "655:\tlearn: 0.2083811\ttotal: 43.6s\tremaining: 22.9s\n",
      "656:\tlearn: 0.2081958\ttotal: 43.7s\tremaining: 22.8s\n",
      "657:\tlearn: 0.2080251\ttotal: 43.8s\tremaining: 22.8s\n",
      "658:\tlearn: 0.2078117\ttotal: 43.9s\tremaining: 22.7s\n",
      "659:\tlearn: 0.2077988\ttotal: 44s\tremaining: 22.7s\n",
      "660:\tlearn: 0.2077694\ttotal: 44s\tremaining: 22.6s\n",
      "661:\tlearn: 0.2076759\ttotal: 44.1s\tremaining: 22.5s\n",
      "662:\tlearn: 0.2076709\ttotal: 44.2s\tremaining: 22.5s\n",
      "663:\tlearn: 0.2076367\ttotal: 44.2s\tremaining: 22.4s\n",
      "664:\tlearn: 0.2076512\ttotal: 44.3s\tremaining: 22.3s\n",
      "665:\tlearn: 0.2076289\ttotal: 44.3s\tremaining: 22.2s\n",
      "666:\tlearn: 0.2076125\ttotal: 44.4s\tremaining: 22.1s\n",
      "667:\tlearn: 0.2076321\ttotal: 44.4s\tremaining: 22.1s\n",
      "668:\tlearn: 0.2075328\ttotal: 44.5s\tremaining: 22s\n",
      "669:\tlearn: 0.2075748\ttotal: 44.6s\tremaining: 22s\n",
      "670:\tlearn: 0.2075732\ttotal: 44.7s\tremaining: 21.9s\n",
      "671:\tlearn: 0.2075800\ttotal: 44.7s\tremaining: 21.8s\n",
      "672:\tlearn: 0.2075507\ttotal: 44.8s\tremaining: 21.8s\n",
      "673:\tlearn: 0.2075580\ttotal: 44.8s\tremaining: 21.7s\n",
      "674:\tlearn: 0.2072417\ttotal: 44.9s\tremaining: 21.6s\n",
      "675:\tlearn: 0.2072517\ttotal: 45s\tremaining: 21.6s\n",
      "676:\tlearn: 0.2072272\ttotal: 45.1s\tremaining: 21.5s\n",
      "677:\tlearn: 0.2072519\ttotal: 45.1s\tremaining: 21.4s\n",
      "678:\tlearn: 0.2072160\ttotal: 45.2s\tremaining: 21.4s\n",
      "679:\tlearn: 0.2070391\ttotal: 45.3s\tremaining: 21.3s\n",
      "680:\tlearn: 0.2069353\ttotal: 45.3s\tremaining: 21.2s\n",
      "681:\tlearn: 0.2069132\ttotal: 45.4s\tremaining: 21.2s\n",
      "682:\tlearn: 0.2069097\ttotal: 45.4s\tremaining: 21.1s\n",
      "683:\tlearn: 0.2068887\ttotal: 45.5s\tremaining: 21s\n",
      "684:\tlearn: 0.2068809\ttotal: 45.5s\tremaining: 20.9s\n",
      "685:\tlearn: 0.2068772\ttotal: 45.6s\tremaining: 20.9s\n",
      "686:\tlearn: 0.2068791\ttotal: 45.6s\tremaining: 20.8s\n",
      "687:\tlearn: 0.2068284\ttotal: 45.7s\tremaining: 20.7s\n",
      "688:\tlearn: 0.2068257\ttotal: 45.7s\tremaining: 20.6s\n",
      "689:\tlearn: 0.2067790\ttotal: 45.8s\tremaining: 20.6s\n",
      "690:\tlearn: 0.2067343\ttotal: 45.8s\tremaining: 20.5s\n",
      "691:\tlearn: 0.2067323\ttotal: 45.9s\tremaining: 20.4s\n",
      "692:\tlearn: 0.2067219\ttotal: 45.9s\tremaining: 20.3s\n",
      "693:\tlearn: 0.2067070\ttotal: 46s\tremaining: 20.3s\n",
      "694:\tlearn: 0.2066965\ttotal: 46s\tremaining: 20.2s\n",
      "695:\tlearn: 0.2067088\ttotal: 46.1s\tremaining: 20.1s\n",
      "696:\tlearn: 0.2067043\ttotal: 46.1s\tremaining: 20s\n",
      "697:\tlearn: 0.2067178\ttotal: 46.1s\tremaining: 20s\n",
      "698:\tlearn: 0.2067156\ttotal: 46.2s\tremaining: 19.9s\n",
      "699:\tlearn: 0.2067052\ttotal: 46.2s\tremaining: 19.8s\n",
      "700:\tlearn: 0.2066633\ttotal: 46.3s\tremaining: 19.7s\n",
      "701:\tlearn: 0.2065973\ttotal: 46.3s\tremaining: 19.7s\n",
      "702:\tlearn: 0.2065853\ttotal: 46.4s\tremaining: 19.6s\n",
      "703:\tlearn: 0.2065688\ttotal: 46.4s\tremaining: 19.5s\n",
      "704:\tlearn: 0.2065503\ttotal: 46.5s\tremaining: 19.5s\n",
      "705:\tlearn: 0.2065241\ttotal: 46.5s\tremaining: 19.4s\n",
      "706:\tlearn: 0.2065127\ttotal: 46.6s\tremaining: 19.3s\n",
      "707:\tlearn: 0.2064148\ttotal: 46.7s\tremaining: 19.3s\n",
      "708:\tlearn: 0.2063844\ttotal: 46.7s\tremaining: 19.2s\n",
      "709:\tlearn: 0.2063406\ttotal: 46.9s\tremaining: 19.1s\n",
      "710:\tlearn: 0.2063419\ttotal: 46.9s\tremaining: 19.1s\n",
      "711:\tlearn: 0.2063085\ttotal: 47s\tremaining: 19s\n",
      "712:\tlearn: 0.2062920\ttotal: 47s\tremaining: 18.9s\n",
      "713:\tlearn: 0.2063236\ttotal: 47.1s\tremaining: 18.9s\n",
      "714:\tlearn: 0.2062816\ttotal: 47.2s\tremaining: 18.8s\n",
      "715:\tlearn: 0.2062358\ttotal: 47.2s\tremaining: 18.7s\n",
      "716:\tlearn: 0.2062315\ttotal: 47.3s\tremaining: 18.7s\n",
      "717:\tlearn: 0.2062296\ttotal: 47.4s\tremaining: 18.6s\n",
      "718:\tlearn: 0.2062636\ttotal: 47.4s\tremaining: 18.5s\n",
      "719:\tlearn: 0.2062360\ttotal: 47.5s\tremaining: 18.5s\n",
      "720:\tlearn: 0.2062322\ttotal: 47.5s\tremaining: 18.4s\n",
      "721:\tlearn: 0.2062235\ttotal: 47.6s\tremaining: 18.3s\n",
      "722:\tlearn: 0.2061902\ttotal: 47.7s\tremaining: 18.3s\n",
      "723:\tlearn: 0.2061782\ttotal: 47.7s\tremaining: 18.2s\n",
      "724:\tlearn: 0.2061749\ttotal: 47.8s\tremaining: 18.1s\n",
      "725:\tlearn: 0.2061740\ttotal: 47.9s\tremaining: 18.1s\n",
      "726:\tlearn: 0.2061453\ttotal: 48s\tremaining: 18s\n",
      "727:\tlearn: 0.2061696\ttotal: 48s\tremaining: 17.9s\n",
      "728:\tlearn: 0.2059889\ttotal: 48.1s\tremaining: 17.9s\n",
      "729:\tlearn: 0.2059837\ttotal: 48.2s\tremaining: 17.8s\n",
      "730:\tlearn: 0.2058606\ttotal: 48.2s\tremaining: 17.8s\n",
      "731:\tlearn: 0.2058618\ttotal: 48.3s\tremaining: 17.7s\n",
      "732:\tlearn: 0.2058521\ttotal: 48.3s\tremaining: 17.6s\n",
      "733:\tlearn: 0.2058633\ttotal: 48.4s\tremaining: 17.5s\n",
      "734:\tlearn: 0.2058573\ttotal: 48.5s\tremaining: 17.5s\n",
      "735:\tlearn: 0.2058600\ttotal: 48.5s\tremaining: 17.4s\n",
      "736:\tlearn: 0.2058284\ttotal: 48.6s\tremaining: 17.3s\n",
      "737:\tlearn: 0.2058129\ttotal: 48.6s\tremaining: 17.3s\n",
      "738:\tlearn: 0.2057890\ttotal: 48.7s\tremaining: 17.2s\n",
      "739:\tlearn: 0.2057488\ttotal: 48.8s\tremaining: 17.2s\n",
      "740:\tlearn: 0.2057514\ttotal: 48.9s\tremaining: 17.1s\n",
      "741:\tlearn: 0.2057209\ttotal: 49s\tremaining: 17s\n",
      "742:\tlearn: 0.2057128\ttotal: 49s\tremaining: 17s\n",
      "743:\tlearn: 0.2056745\ttotal: 49.1s\tremaining: 16.9s\n",
      "744:\tlearn: 0.2056632\ttotal: 49.2s\tremaining: 16.8s\n",
      "745:\tlearn: 0.2056698\ttotal: 49.2s\tremaining: 16.8s\n",
      "746:\tlearn: 0.2054783\ttotal: 49.4s\tremaining: 16.7s\n",
      "747:\tlearn: 0.2054733\ttotal: 49.4s\tremaining: 16.6s\n",
      "748:\tlearn: 0.2054430\ttotal: 49.5s\tremaining: 16.6s\n",
      "749:\tlearn: 0.2054154\ttotal: 49.5s\tremaining: 16.5s\n",
      "750:\tlearn: 0.2053828\ttotal: 49.6s\tremaining: 16.5s\n",
      "751:\tlearn: 0.2053797\ttotal: 49.7s\tremaining: 16.4s\n",
      "752:\tlearn: 0.2053912\ttotal: 49.8s\tremaining: 16.3s\n",
      "753:\tlearn: 0.2053744\ttotal: 49.8s\tremaining: 16.2s\n",
      "754:\tlearn: 0.2053720\ttotal: 49.8s\tremaining: 16.2s\n",
      "755:\tlearn: 0.2053597\ttotal: 49.9s\tremaining: 16.1s\n",
      "756:\tlearn: 0.2053551\ttotal: 49.9s\tremaining: 16s\n",
      "757:\tlearn: 0.2053413\ttotal: 50s\tremaining: 16s\n",
      "758:\tlearn: 0.2053148\ttotal: 50s\tremaining: 15.9s\n",
      "759:\tlearn: 0.2053024\ttotal: 50.1s\tremaining: 15.8s\n",
      "760:\tlearn: 0.2052985\ttotal: 50.2s\tremaining: 15.8s\n",
      "761:\tlearn: 0.2052786\ttotal: 50.2s\tremaining: 15.7s\n",
      "762:\tlearn: 0.2052327\ttotal: 50.3s\tremaining: 15.6s\n",
      "763:\tlearn: 0.2052521\ttotal: 50.3s\tremaining: 15.5s\n",
      "764:\tlearn: 0.2052279\ttotal: 50.4s\tremaining: 15.5s\n",
      "765:\tlearn: 0.2051967\ttotal: 50.5s\tremaining: 15.4s\n",
      "766:\tlearn: 0.2051881\ttotal: 50.6s\tremaining: 15.4s\n",
      "767:\tlearn: 0.2051964\ttotal: 50.6s\tremaining: 15.3s\n",
      "768:\tlearn: 0.2051935\ttotal: 50.7s\tremaining: 15.2s\n",
      "769:\tlearn: 0.2051856\ttotal: 50.7s\tremaining: 15.1s\n",
      "770:\tlearn: 0.2051699\ttotal: 50.8s\tremaining: 15.1s\n",
      "771:\tlearn: 0.2051512\ttotal: 50.8s\tremaining: 15s\n",
      "772:\tlearn: 0.2050792\ttotal: 50.9s\tremaining: 14.9s\n",
      "773:\tlearn: 0.2050568\ttotal: 51s\tremaining: 14.9s\n",
      "774:\tlearn: 0.2050664\ttotal: 51s\tremaining: 14.8s\n",
      "775:\tlearn: 0.2050913\ttotal: 51.1s\tremaining: 14.7s\n",
      "776:\tlearn: 0.2050836\ttotal: 51.1s\tremaining: 14.7s\n",
      "777:\tlearn: 0.2050827\ttotal: 51.2s\tremaining: 14.6s\n",
      "778:\tlearn: 0.2050612\ttotal: 51.2s\tremaining: 14.5s\n",
      "779:\tlearn: 0.2050491\ttotal: 51.3s\tremaining: 14.5s\n",
      "780:\tlearn: 0.2049949\ttotal: 51.4s\tremaining: 14.4s\n",
      "781:\tlearn: 0.2045578\ttotal: 51.5s\tremaining: 14.3s\n",
      "782:\tlearn: 0.2045034\ttotal: 51.5s\tremaining: 14.3s\n",
      "783:\tlearn: 0.2044992\ttotal: 51.5s\tremaining: 14.2s\n",
      "784:\tlearn: 0.2044884\ttotal: 51.6s\tremaining: 14.1s\n",
      "785:\tlearn: 0.2043034\ttotal: 51.7s\tremaining: 14.1s\n",
      "786:\tlearn: 0.2042911\ttotal: 51.8s\tremaining: 14s\n",
      "787:\tlearn: 0.2042908\ttotal: 51.8s\tremaining: 13.9s\n",
      "788:\tlearn: 0.2042932\ttotal: 51.9s\tremaining: 13.9s\n",
      "789:\tlearn: 0.2043032\ttotal: 52s\tremaining: 13.8s\n",
      "790:\tlearn: 0.2042835\ttotal: 52s\tremaining: 13.7s\n",
      "791:\tlearn: 0.2042330\ttotal: 52.1s\tremaining: 13.7s\n",
      "792:\tlearn: 0.2041840\ttotal: 52.1s\tremaining: 13.6s\n",
      "793:\tlearn: 0.2041765\ttotal: 52.2s\tremaining: 13.5s\n",
      "794:\tlearn: 0.2041557\ttotal: 52.2s\tremaining: 13.5s\n",
      "795:\tlearn: 0.2041214\ttotal: 52.3s\tremaining: 13.4s\n",
      "796:\tlearn: 0.2041269\ttotal: 52.4s\tremaining: 13.3s\n",
      "797:\tlearn: 0.2040919\ttotal: 52.5s\tremaining: 13.3s\n",
      "798:\tlearn: 0.2040301\ttotal: 52.6s\tremaining: 13.2s\n",
      "799:\tlearn: 0.2039330\ttotal: 52.7s\tremaining: 13.2s\n",
      "800:\tlearn: 0.2039231\ttotal: 52.7s\tremaining: 13.1s\n",
      "801:\tlearn: 0.2039116\ttotal: 52.8s\tremaining: 13s\n",
      "802:\tlearn: 0.2037051\ttotal: 52.9s\tremaining: 13s\n",
      "803:\tlearn: 0.2037106\ttotal: 53s\tremaining: 12.9s\n",
      "804:\tlearn: 0.2037041\ttotal: 53s\tremaining: 12.8s\n",
      "805:\tlearn: 0.2036846\ttotal: 53.1s\tremaining: 12.8s\n",
      "806:\tlearn: 0.2036931\ttotal: 53.1s\tremaining: 12.7s\n",
      "807:\tlearn: 0.2036476\ttotal: 53.2s\tremaining: 12.6s\n",
      "808:\tlearn: 0.2036518\ttotal: 53.2s\tremaining: 12.6s\n",
      "809:\tlearn: 0.2035719\ttotal: 53.3s\tremaining: 12.5s\n",
      "810:\tlearn: 0.2035496\ttotal: 53.4s\tremaining: 12.4s\n",
      "811:\tlearn: 0.2035380\ttotal: 53.4s\tremaining: 12.4s\n",
      "812:\tlearn: 0.2035219\ttotal: 53.5s\tremaining: 12.3s\n",
      "813:\tlearn: 0.2035095\ttotal: 53.5s\tremaining: 12.2s\n",
      "814:\tlearn: 0.2035174\ttotal: 53.6s\tremaining: 12.2s\n",
      "815:\tlearn: 0.2032127\ttotal: 53.7s\tremaining: 12.1s\n",
      "816:\tlearn: 0.2032271\ttotal: 53.8s\tremaining: 12s\n",
      "817:\tlearn: 0.2032151\ttotal: 53.8s\tremaining: 12s\n",
      "818:\tlearn: 0.2032042\ttotal: 53.8s\tremaining: 11.9s\n",
      "819:\tlearn: 0.2031977\ttotal: 53.9s\tremaining: 11.8s\n",
      "820:\tlearn: 0.2028409\ttotal: 54s\tremaining: 11.8s\n",
      "821:\tlearn: 0.2028440\ttotal: 54.1s\tremaining: 11.7s\n",
      "822:\tlearn: 0.2028491\ttotal: 54.1s\tremaining: 11.6s\n",
      "823:\tlearn: 0.2027931\ttotal: 54.1s\tremaining: 11.6s\n",
      "824:\tlearn: 0.2027917\ttotal: 54.2s\tremaining: 11.5s\n",
      "825:\tlearn: 0.2027792\ttotal: 54.2s\tremaining: 11.4s\n",
      "826:\tlearn: 0.2027924\ttotal: 54.3s\tremaining: 11.4s\n",
      "827:\tlearn: 0.2027963\ttotal: 54.3s\tremaining: 11.3s\n",
      "828:\tlearn: 0.2027994\ttotal: 54.4s\tremaining: 11.2s\n",
      "829:\tlearn: 0.2027923\ttotal: 54.5s\tremaining: 11.2s\n",
      "830:\tlearn: 0.2027822\ttotal: 54.6s\tremaining: 11.1s\n",
      "831:\tlearn: 0.2027682\ttotal: 54.7s\tremaining: 11s\n",
      "832:\tlearn: 0.2027610\ttotal: 54.7s\tremaining: 11s\n",
      "833:\tlearn: 0.2027025\ttotal: 54.7s\tremaining: 10.9s\n",
      "834:\tlearn: 0.2027049\ttotal: 54.9s\tremaining: 10.8s\n",
      "835:\tlearn: 0.2026508\ttotal: 55s\tremaining: 10.8s\n",
      "836:\tlearn: 0.2025980\ttotal: 55s\tremaining: 10.7s\n",
      "837:\tlearn: 0.2026185\ttotal: 55s\tremaining: 10.6s\n",
      "838:\tlearn: 0.2026250\ttotal: 55.1s\tremaining: 10.6s\n",
      "839:\tlearn: 0.2026153\ttotal: 55.1s\tremaining: 10.5s\n",
      "840:\tlearn: 0.2024706\ttotal: 55.2s\tremaining: 10.4s\n",
      "841:\tlearn: 0.2024604\ttotal: 55.3s\tremaining: 10.4s\n",
      "842:\tlearn: 0.2024828\ttotal: 55.3s\tremaining: 10.3s\n",
      "843:\tlearn: 0.2024869\ttotal: 55.4s\tremaining: 10.2s\n",
      "844:\tlearn: 0.2024832\ttotal: 55.4s\tremaining: 10.2s\n",
      "845:\tlearn: 0.2021106\ttotal: 55.5s\tremaining: 10.1s\n",
      "846:\tlearn: 0.2020907\ttotal: 55.6s\tremaining: 10s\n",
      "847:\tlearn: 0.2020025\ttotal: 55.6s\tremaining: 9.97s\n",
      "848:\tlearn: 0.2020020\ttotal: 55.7s\tremaining: 9.9s\n",
      "849:\tlearn: 0.2019801\ttotal: 55.7s\tremaining: 9.83s\n",
      "850:\tlearn: 0.2019700\ttotal: 55.8s\tremaining: 9.76s\n",
      "851:\tlearn: 0.2019649\ttotal: 55.8s\tremaining: 9.7s\n",
      "852:\tlearn: 0.2019865\ttotal: 55.9s\tremaining: 9.63s\n",
      "853:\tlearn: 0.2019524\ttotal: 56s\tremaining: 9.57s\n",
      "854:\tlearn: 0.2019363\ttotal: 56s\tremaining: 9.51s\n",
      "855:\tlearn: 0.2019526\ttotal: 56.1s\tremaining: 9.44s\n",
      "856:\tlearn: 0.2019612\ttotal: 56.1s\tremaining: 9.37s\n",
      "857:\tlearn: 0.2019132\ttotal: 56.2s\tremaining: 9.3s\n",
      "858:\tlearn: 0.2019018\ttotal: 56.3s\tremaining: 9.24s\n",
      "859:\tlearn: 0.2018654\ttotal: 56.3s\tremaining: 9.17s\n",
      "860:\tlearn: 0.2018766\ttotal: 56.4s\tremaining: 9.11s\n",
      "861:\tlearn: 0.2018599\ttotal: 56.4s\tremaining: 9.04s\n",
      "862:\tlearn: 0.2018541\ttotal: 56.5s\tremaining: 8.97s\n",
      "863:\tlearn: 0.2018108\ttotal: 56.6s\tremaining: 8.9s\n",
      "864:\tlearn: 0.2017920\ttotal: 56.6s\tremaining: 8.84s\n",
      "865:\tlearn: 0.2017709\ttotal: 56.7s\tremaining: 8.77s\n",
      "866:\tlearn: 0.2017634\ttotal: 56.8s\tremaining: 8.71s\n",
      "867:\tlearn: 0.2017504\ttotal: 56.8s\tremaining: 8.64s\n",
      "868:\tlearn: 0.2017328\ttotal: 56.9s\tremaining: 8.58s\n",
      "869:\tlearn: 0.2017204\ttotal: 56.9s\tremaining: 8.51s\n",
      "870:\tlearn: 0.2017093\ttotal: 57s\tremaining: 8.44s\n",
      "871:\tlearn: 0.2016617\ttotal: 57.1s\tremaining: 8.38s\n",
      "872:\tlearn: 0.2016489\ttotal: 57.2s\tremaining: 8.32s\n",
      "873:\tlearn: 0.2016517\ttotal: 57.3s\tremaining: 8.25s\n",
      "874:\tlearn: 0.2015950\ttotal: 57.3s\tremaining: 8.19s\n",
      "875:\tlearn: 0.2015999\ttotal: 57.4s\tremaining: 8.13s\n",
      "876:\tlearn: 0.2014885\ttotal: 57.5s\tremaining: 8.06s\n",
      "877:\tlearn: 0.2014684\ttotal: 57.5s\tremaining: 7.99s\n",
      "878:\tlearn: 0.2014487\ttotal: 57.6s\tremaining: 7.93s\n",
      "879:\tlearn: 0.2014489\ttotal: 57.6s\tremaining: 7.86s\n",
      "880:\tlearn: 0.2014323\ttotal: 57.7s\tremaining: 7.79s\n",
      "881:\tlearn: 0.2014140\ttotal: 57.7s\tremaining: 7.72s\n",
      "882:\tlearn: 0.2014145\ttotal: 57.8s\tremaining: 7.66s\n",
      "883:\tlearn: 0.2014249\ttotal: 57.9s\tremaining: 7.59s\n",
      "884:\tlearn: 0.2013814\ttotal: 57.9s\tremaining: 7.53s\n",
      "885:\tlearn: 0.2013808\ttotal: 58s\tremaining: 7.46s\n",
      "886:\tlearn: 0.2013726\ttotal: 58.1s\tremaining: 7.39s\n",
      "887:\tlearn: 0.2013717\ttotal: 58.1s\tremaining: 7.33s\n",
      "888:\tlearn: 0.2013517\ttotal: 58.1s\tremaining: 7.26s\n",
      "889:\tlearn: 0.2013056\ttotal: 58.2s\tremaining: 7.19s\n",
      "890:\tlearn: 0.2012950\ttotal: 58.2s\tremaining: 7.13s\n",
      "891:\tlearn: 0.2012831\ttotal: 58.3s\tremaining: 7.06s\n",
      "892:\tlearn: 0.2012744\ttotal: 58.3s\tremaining: 6.99s\n",
      "893:\tlearn: 0.2012542\ttotal: 58.4s\tremaining: 6.92s\n",
      "894:\tlearn: 0.2012429\ttotal: 58.4s\tremaining: 6.85s\n",
      "895:\tlearn: 0.2012283\ttotal: 58.5s\tremaining: 6.79s\n",
      "896:\tlearn: 0.2012359\ttotal: 58.5s\tremaining: 6.72s\n",
      "897:\tlearn: 0.2012379\ttotal: 58.5s\tremaining: 6.65s\n",
      "898:\tlearn: 0.2012183\ttotal: 58.6s\tremaining: 6.59s\n",
      "899:\tlearn: 0.2012553\ttotal: 58.7s\tremaining: 6.52s\n",
      "900:\tlearn: 0.2012673\ttotal: 58.8s\tremaining: 6.46s\n",
      "901:\tlearn: 0.2011865\ttotal: 58.9s\tremaining: 6.4s\n",
      "902:\tlearn: 0.2011674\ttotal: 58.9s\tremaining: 6.33s\n",
      "903:\tlearn: 0.2011682\ttotal: 59s\tremaining: 6.27s\n",
      "904:\tlearn: 0.2011380\ttotal: 59.1s\tremaining: 6.2s\n",
      "905:\tlearn: 0.2011648\ttotal: 59.1s\tremaining: 6.14s\n",
      "906:\tlearn: 0.2011740\ttotal: 59.2s\tremaining: 6.07s\n",
      "907:\tlearn: 0.2011911\ttotal: 59.3s\tremaining: 6.01s\n",
      "908:\tlearn: 0.2011075\ttotal: 59.4s\tremaining: 5.95s\n",
      "909:\tlearn: 0.2011405\ttotal: 59.5s\tremaining: 5.89s\n",
      "910:\tlearn: 0.2011059\ttotal: 59.6s\tremaining: 5.82s\n",
      "911:\tlearn: 0.2011045\ttotal: 59.6s\tremaining: 5.75s\n",
      "912:\tlearn: 0.2011047\ttotal: 59.7s\tremaining: 5.68s\n",
      "913:\tlearn: 0.2011398\ttotal: 59.7s\tremaining: 5.62s\n",
      "914:\tlearn: 0.2011293\ttotal: 59.8s\tremaining: 5.55s\n",
      "915:\tlearn: 0.2010798\ttotal: 59.9s\tremaining: 5.49s\n",
      "916:\tlearn: 0.2010771\ttotal: 59.9s\tremaining: 5.42s\n",
      "917:\tlearn: 0.2010631\ttotal: 60s\tremaining: 5.36s\n",
      "918:\tlearn: 0.2010432\ttotal: 1m\tremaining: 5.29s\n",
      "919:\tlearn: 0.2010148\ttotal: 1m\tremaining: 5.22s\n",
      "920:\tlearn: 0.2010013\ttotal: 1m\tremaining: 5.16s\n",
      "921:\tlearn: 0.2009886\ttotal: 1m\tremaining: 5.09s\n",
      "922:\tlearn: 0.2009927\ttotal: 1m\tremaining: 5.03s\n",
      "923:\tlearn: 0.2010007\ttotal: 1m\tremaining: 4.96s\n",
      "924:\tlearn: 0.2009975\ttotal: 1m\tremaining: 4.89s\n",
      "925:\tlearn: 0.2008597\ttotal: 1m\tremaining: 4.83s\n",
      "926:\tlearn: 0.2008527\ttotal: 1m\tremaining: 4.77s\n",
      "927:\tlearn: 0.2007688\ttotal: 1m\tremaining: 4.71s\n",
      "928:\tlearn: 0.2006270\ttotal: 1m\tremaining: 4.64s\n",
      "929:\tlearn: 0.2006189\ttotal: 1m\tremaining: 4.58s\n",
      "930:\tlearn: 0.2006013\ttotal: 1m\tremaining: 4.51s\n",
      "931:\tlearn: 0.2005881\ttotal: 1m\tremaining: 4.44s\n",
      "932:\tlearn: 0.2006024\ttotal: 1m\tremaining: 4.37s\n",
      "933:\tlearn: 0.2005868\ttotal: 1m\tremaining: 4.31s\n",
      "934:\tlearn: 0.2005658\ttotal: 1m 1s\tremaining: 4.24s\n",
      "935:\tlearn: 0.2005456\ttotal: 1m 1s\tremaining: 4.18s\n",
      "936:\tlearn: 0.2005279\ttotal: 1m 1s\tremaining: 4.11s\n",
      "937:\tlearn: 0.2005672\ttotal: 1m 1s\tremaining: 4.05s\n",
      "938:\tlearn: 0.2004649\ttotal: 1m 1s\tremaining: 3.98s\n",
      "939:\tlearn: 0.2004524\ttotal: 1m 1s\tremaining: 3.92s\n",
      "940:\tlearn: 0.2004516\ttotal: 1m 1s\tremaining: 3.86s\n",
      "941:\tlearn: 0.2004314\ttotal: 1m 1s\tremaining: 3.79s\n",
      "942:\tlearn: 0.2004363\ttotal: 1m 1s\tremaining: 3.73s\n",
      "943:\tlearn: 0.2004366\ttotal: 1m 1s\tremaining: 3.66s\n",
      "944:\tlearn: 0.2004201\ttotal: 1m 1s\tremaining: 3.6s\n",
      "945:\tlearn: 0.2004060\ttotal: 1m 1s\tremaining: 3.53s\n",
      "946:\tlearn: 0.2003985\ttotal: 1m 1s\tremaining: 3.46s\n",
      "947:\tlearn: 0.2003910\ttotal: 1m 1s\tremaining: 3.4s\n",
      "948:\tlearn: 0.2000517\ttotal: 1m 2s\tremaining: 3.33s\n",
      "949:\tlearn: 0.2000621\ttotal: 1m 2s\tremaining: 3.27s\n",
      "950:\tlearn: 0.2000333\ttotal: 1m 2s\tremaining: 3.2s\n",
      "951:\tlearn: 0.2000425\ttotal: 1m 2s\tremaining: 3.13s\n",
      "952:\tlearn: 0.2000064\ttotal: 1m 2s\tremaining: 3.07s\n",
      "953:\tlearn: 0.1999978\ttotal: 1m 2s\tremaining: 3s\n",
      "954:\tlearn: 0.1997888\ttotal: 1m 2s\tremaining: 2.94s\n",
      "955:\tlearn: 0.1997143\ttotal: 1m 2s\tremaining: 2.87s\n",
      "956:\tlearn: 0.1996567\ttotal: 1m 2s\tremaining: 2.81s\n",
      "957:\tlearn: 0.1996653\ttotal: 1m 2s\tremaining: 2.75s\n",
      "958:\tlearn: 0.1996500\ttotal: 1m 2s\tremaining: 2.68s\n",
      "959:\tlearn: 0.1996255\ttotal: 1m 2s\tremaining: 2.61s\n",
      "960:\tlearn: 0.1996166\ttotal: 1m 2s\tremaining: 2.55s\n",
      "961:\tlearn: 0.1995644\ttotal: 1m 2s\tremaining: 2.48s\n",
      "962:\tlearn: 0.1995528\ttotal: 1m 2s\tremaining: 2.42s\n",
      "963:\tlearn: 0.1995514\ttotal: 1m 2s\tremaining: 2.35s\n",
      "964:\tlearn: 0.1995352\ttotal: 1m 2s\tremaining: 2.28s\n",
      "965:\tlearn: 0.1995275\ttotal: 1m 3s\tremaining: 2.22s\n",
      "966:\tlearn: 0.1995434\ttotal: 1m 3s\tremaining: 2.15s\n",
      "967:\tlearn: 0.1995637\ttotal: 1m 3s\tremaining: 2.09s\n",
      "968:\tlearn: 0.1995504\ttotal: 1m 3s\tremaining: 2.02s\n",
      "969:\tlearn: 0.1995437\ttotal: 1m 3s\tremaining: 1.96s\n",
      "970:\tlearn: 0.1995384\ttotal: 1m 3s\tremaining: 1.89s\n",
      "971:\tlearn: 0.1995325\ttotal: 1m 3s\tremaining: 1.82s\n",
      "972:\tlearn: 0.1995332\ttotal: 1m 3s\tremaining: 1.76s\n",
      "973:\tlearn: 0.1995336\ttotal: 1m 3s\tremaining: 1.69s\n",
      "974:\tlearn: 0.1995266\ttotal: 1m 3s\tremaining: 1.63s\n",
      "975:\tlearn: 0.1995131\ttotal: 1m 3s\tremaining: 1.56s\n",
      "976:\tlearn: 0.1994551\ttotal: 1m 3s\tremaining: 1.5s\n",
      "977:\tlearn: 0.1994484\ttotal: 1m 3s\tremaining: 1.43s\n",
      "978:\tlearn: 0.1994357\ttotal: 1m 3s\tremaining: 1.37s\n",
      "979:\tlearn: 0.1994265\ttotal: 1m 3s\tremaining: 1.3s\n",
      "980:\tlearn: 0.1994223\ttotal: 1m 3s\tremaining: 1.24s\n",
      "981:\tlearn: 0.1993972\ttotal: 1m 3s\tremaining: 1.17s\n",
      "982:\tlearn: 0.1993609\ttotal: 1m 4s\tremaining: 1.11s\n",
      "983:\tlearn: 0.1993388\ttotal: 1m 4s\tremaining: 1.04s\n",
      "984:\tlearn: 0.1992853\ttotal: 1m 4s\tremaining: 978ms\n",
      "985:\tlearn: 0.1992861\ttotal: 1m 4s\tremaining: 912ms\n",
      "986:\tlearn: 0.1992826\ttotal: 1m 4s\tremaining: 847ms\n",
      "987:\tlearn: 0.1992950\ttotal: 1m 4s\tremaining: 782ms\n",
      "988:\tlearn: 0.1992840\ttotal: 1m 4s\tremaining: 716ms\n",
      "989:\tlearn: 0.1992831\ttotal: 1m 4s\tremaining: 651ms\n",
      "990:\tlearn: 0.1992736\ttotal: 1m 4s\tremaining: 586ms\n",
      "991:\tlearn: 0.1991967\ttotal: 1m 4s\tremaining: 521ms\n",
      "992:\tlearn: 0.1992089\ttotal: 1m 4s\tremaining: 456ms\n",
      "993:\tlearn: 0.1991841\ttotal: 1m 4s\tremaining: 390ms\n",
      "994:\tlearn: 0.1991679\ttotal: 1m 4s\tremaining: 325ms\n",
      "995:\tlearn: 0.1991520\ttotal: 1m 4s\tremaining: 260ms\n",
      "996:\tlearn: 0.1991411\ttotal: 1m 4s\tremaining: 195ms\n",
      "997:\tlearn: 0.1991313\ttotal: 1m 4s\tremaining: 130ms\n",
      "998:\tlearn: 0.1991495\ttotal: 1m 4s\tremaining: 65.1ms\n",
      "999:\tlearn: 0.1991304\ttotal: 1m 5s\tremaining: 0us\n"
     ]
    },
    {
     "data": {
      "text/plain": "<catboost.core.CatBoostRegressor at 0x1d6a4ecbb50>"
     },
     "execution_count": 45,
     "metadata": {},
     "output_type": "execute_result"
    }
   ],
   "source": [
    "model.fit(X_train, y_train, cat_features=cat_features, text_features=text_features, verbose=True)"
   ],
   "metadata": {
    "collapsed": false,
    "ExecuteTime": {
     "end_time": "2024-01-09T16:55:53.383951900Z",
     "start_time": "2024-01-09T16:54:05.714579700Z"
    }
   },
   "id": "8727b8dffdc55bf6"
  },
  {
   "cell_type": "code",
   "execution_count": 46,
   "outputs": [],
   "source": [
    "pd.Series(model.predict(X_test)).to_csv('solution4.csv', header=False, index=False)"
   ],
   "metadata": {
    "collapsed": false,
    "ExecuteTime": {
     "end_time": "2024-01-09T16:56:15.524161400Z",
     "start_time": "2024-01-09T16:56:15.398232700Z"
    }
   },
   "id": "22f5a0a090a117cd"
  },
  {
   "cell_type": "code",
   "execution_count": 95,
   "outputs": [],
   "source": [
    "abc = data.groupby(by=['model', 'sale_end_date']).agg({'price': 'mean'}).reset_index()"
   ],
   "metadata": {
    "collapsed": false,
    "ExecuteTime": {
     "end_time": "2024-01-06T14:05:57.576884700Z",
     "start_time": "2024-01-06T14:05:57.447441500Z"
    }
   },
   "id": "a71d27e6a1aeb39d"
  },
  {
   "cell_type": "code",
   "execution_count": 109,
   "outputs": [],
   "source": [
    "abc['sale_end_date'] = pd.to_datetime(abc['sale_end_date'])"
   ],
   "metadata": {
    "collapsed": false,
    "ExecuteTime": {
     "end_time": "2024-01-06T14:07:31.883510200Z",
     "start_time": "2024-01-06T14:07:31.809120300Z"
    }
   },
   "id": "2f827bf6556d234f"
  },
  {
   "cell_type": "code",
   "execution_count": 213,
   "outputs": [
    {
     "name": "stdout",
     "output_type": "stream",
     "text": [
      "69\n"
     ]
    },
    {
     "data": {
      "text/plain": "<Figure size 640x480 with 1 Axes>",
      "image/png": "[encoded data removed]"
     },
     "metadata": {},
     "output_type": "display_data"
    }
   ],
   "source": [
    "import random\n",
    "\n",
    "i = random.choice(abc['model'].unique())\n",
    "abc[abc['model'] == i][['sale_end_date', 'price']].plot(x='sale_end_date', y='price')\n",
    "print(i)"
   ],
   "metadata": {
    "collapsed": false,
    "ExecuteTime": {
     "end_time": "2024-01-06T14:19:06.793379100Z",
     "start_time": "2024-01-06T14:19:06.567715200Z"
    }
   },
   "id": "2d52668f9fa241c3"
  }
 ],
 "metadata": {
  "kernelspec": {
   "display_name": "Python 3",
   "language": "python",
   "name": "python3"
  },
  "language_info": {
   "codemirror_mode": {
    "name": "ipython",
    "version": 2
   },
   "file_extension": ".py",
   "mimetype": "text/x-python",
   "name": "python",
   "nbconvert_exporter": "python",
   "pygments_lexer": "ipython2",
   "version": "2.7.6"
  }
 },
 "nbformat": 4,
 "nbformat_minor": 5
}
