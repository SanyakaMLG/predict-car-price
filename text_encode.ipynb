{
 "cells": [
  {
   "cell_type": "code",
   "execution_count": 1,
   "id": "initial_id",
   "metadata": {
    "collapsed": true,
    "ExecuteTime": {
     "end_time": "2024-01-18T09:18:24.479293400Z",
     "start_time": "2024-01-18T09:18:23.757149200Z"
    }
   },
   "outputs": [],
   "source": [
    "import pandas as pd\n",
    "import numpy as np"
   ]
  },
  {
   "cell_type": "code",
   "execution_count": 2,
   "outputs": [],
   "source": [
    "df = pd.read_csv('prepared_data.csv')"
   ],
   "metadata": {
    "collapsed": false,
    "ExecuteTime": {
     "end_time": "2024-01-14T12:59:41.220482500Z",
     "start_time": "2024-01-14T12:59:32.146936500Z"
    }
   },
   "id": "c8a650f641370368"
  },
  {
   "cell_type": "code",
   "execution_count": 2,
   "outputs": [
    {
     "name": "stdout",
     "output_type": "stream",
     "text": [
      "(312,)\n"
     ]
    }
   ],
   "source": [
    "import torch\n",
    "from transformers import AutoTokenizer, AutoModel\n",
    "tokenizer = AutoTokenizer.from_pretrained(\"cointegrated/rubert-tiny2\")\n",
    "model = AutoModel.from_pretrained(\"cointegrated/rubert-tiny2\")\n",
    "model.cuda()  # uncomment it if you have a GPU\n",
    "\n",
    "def embed_bert_cls(text, model, tokenizer):\n",
    "    t = tokenizer(text, padding=True, truncation=True, return_tensors='pt')\n",
    "    with torch.no_grad():\n",
    "        model_output = model(**{k: v.to(model.device) for k, v in t.items()})\n",
    "    embeddings = model_output.last_hidden_state[:, 0, :]\n",
    "    embeddings = torch.nn.functional.normalize(embeddings)\n",
    "    return embeddings[0].cpu().numpy()\n",
    "\n",
    "print(embed_bert_cls('привет мир', model, tokenizer).shape)"
   ],
   "metadata": {
    "collapsed": false,
    "ExecuteTime": {
     "end_time": "2024-01-18T09:18:32.327168Z",
     "start_time": "2024-01-18T09:18:25.301605600Z"
    }
   },
   "id": "c0e3e304383a7e64"
  },
  {
   "cell_type": "code",
   "execution_count": 3,
   "outputs": [],
   "source": [
    "test = pd.read_csv('prepared_test.csv')\n",
    "\n",
    "test_embeddings = test['description'].apply(lambda x: embed_bert_cls(x, model, tokenizer))\n",
    "\n",
    "np.save('test_embeddings.npy', test_embeddings.values)"
   ],
   "metadata": {
    "collapsed": false,
    "ExecuteTime": {
     "end_time": "2024-01-18T09:19:29.491847600Z",
     "start_time": "2024-01-18T09:19:19.504427800Z"
    }
   },
   "id": "6003ca952a3253c9"
  },
  {
   "cell_type": "code",
   "execution_count": 26,
   "outputs": [],
   "source": [
    "embeddings = df['description'].apply(lambda x: embed_bert_cls(x, model, tokenizer))"
   ],
   "metadata": {
    "collapsed": false,
    "ExecuteTime": {
     "end_time": "2024-01-14T14:04:08.094069800Z",
     "start_time": "2024-01-14T13:10:59.347631500Z"
    }
   },
   "id": "c7de82899e7ab241"
  },
  {
   "cell_type": "code",
   "execution_count": 38,
   "outputs": [],
   "source": [
    "np.save('embeddings.npy', embeddings.values)"
   ],
   "metadata": {
    "collapsed": false,
    "ExecuteTime": {
     "end_time": "2024-01-14T15:02:06.813335300Z",
     "start_time": "2024-01-14T15:01:55.908426400Z"
    }
   },
   "id": "72070ba7a31066b8"
  },
  {
   "cell_type": "code",
   "execution_count": 48,
   "outputs": [],
   "source": [
    "df['text_embed'] = np.load('embeddings.npy', allow_pickle=True)"
   ],
   "metadata": {
    "collapsed": false,
    "ExecuteTime": {
     "end_time": "2024-01-14T15:04:36.648663500Z",
     "start_time": "2024-01-14T15:04:34.999349Z"
    }
   },
   "id": "2f16e4d68a42afc7"
  },
  {
   "cell_type": "code",
   "execution_count": 76,
   "outputs": [],
   "source": [
    "X_train, y_train = df.drop(['id', 'price', 'actual_price', 'start_date', 'close_date', 'sale_end_date', 'latitude', 'longitude', 'description'], axis=1), df['actual_price']"
   ],
   "metadata": {
    "collapsed": false,
    "ExecuteTime": {
     "end_time": "2024-01-13T15:45:25.645630100Z",
     "start_time": "2024-01-13T15:45:25.552976500Z"
    }
   },
   "id": "ef973cd8f0b2a486"
  },
  {
   "cell_type": "code",
   "execution_count": 78,
   "outputs": [],
   "source": [
    "cat_features = ['brand', 'model', 'generation', 'modification', 'equipment', 'body_type', 'color', 'owners_count']\n",
    "embed_features = ['text_embed']"
   ],
   "metadata": {
    "collapsed": false,
    "ExecuteTime": {
     "end_time": "2024-01-13T15:45:59.282409900Z",
     "start_time": "2024-01-13T15:45:59.269326800Z"
    }
   },
   "id": "8f7959dfc2ffd88b"
  },
  {
   "cell_type": "code",
   "execution_count": 77,
   "outputs": [],
   "source": [
    "from catboost import CatBoostRegressor"
   ],
   "metadata": {
    "collapsed": false,
    "ExecuteTime": {
     "end_time": "2024-01-13T15:45:34.497543500Z",
     "start_time": "2024-01-13T15:45:33.690152400Z"
    }
   },
   "id": "b2b57e2db2db5aed"
  },
  {
   "cell_type": "code",
   "execution_count": 79,
   "outputs": [],
   "source": [
    "model = CatBoostRegressor(loss_function='RMSE', random_seed=42, eval_metric='MAPE', task_type='GPU', devices='0:1', cat_features=cat_features, embedding_features=embed_features, depth=10, l2_leaf_reg=1, iterations=1000, learning_rate=0.05)"
   ],
   "metadata": {
    "collapsed": false,
    "ExecuteTime": {
     "end_time": "2024-01-13T15:47:42.887976400Z",
     "start_time": "2024-01-13T15:47:42.874444900Z"
    }
   },
   "id": "bb9ebde32ffebd19"
  },
  {
   "cell_type": "code",
   "execution_count": null,
   "outputs": [
    {
     "name": "stderr",
     "output_type": "stream",
     "text": [
      "Warning: less than 75% gpu memory available for training. Free: 2496.450001 Total: 4095.5\n"
     ]
    }
   ],
   "source": [
    "model.fit(X_train, y_train, verbose=True)"
   ],
   "metadata": {
    "collapsed": false,
    "is_executing": true,
    "ExecuteTime": {
     "start_time": "2024-01-13T15:48:41.903104300Z"
    }
   },
   "id": "89493f44e25ae1fd"
  },
  {
   "cell_type": "code",
   "execution_count": null,
   "outputs": [],
   "source": [],
   "metadata": {
    "collapsed": false
   },
   "id": "a28634592804bb76"
  }
 ],
 "metadata": {
  "kernelspec": {
   "display_name": "Python 3",
   "language": "python",
   "name": "python3"
  },
  "language_info": {
   "codemirror_mode": {
    "name": "ipython",
    "version": 2
   },
   "file_extension": ".py",
   "mimetype": "text/x-python",
   "name": "python",
   "nbconvert_exporter": "python",
   "pygments_lexer": "ipython2",
   "version": "2.7.6"
  }
 },
 "nbformat": 4,
 "nbformat_minor": 5
}
