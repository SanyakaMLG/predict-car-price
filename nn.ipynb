{
 "cells": [
  {
   "cell_type": "code",
   "execution_count": 1,
   "id": "initial_id",
   "metadata": {
    "collapsed": true,
    "ExecuteTime": {
     "end_time": "2024-01-21T16:18:32.469704500Z",
     "start_time": "2024-01-21T16:18:25.386018Z"
    }
   },
   "outputs": [],
   "source": [
    "import pandas as pd\n",
    "import numpy as np\n",
    "import torch"
   ]
  },
  {
   "cell_type": "code",
   "execution_count": 2,
   "outputs": [],
   "source": [
    "data = np.load('img_embeddings.npy', allow_pickle=True)"
   ],
   "metadata": {
    "collapsed": false,
    "ExecuteTime": {
     "end_time": "2024-01-21T16:18:44.021755100Z",
     "start_time": "2024-01-21T16:18:43.193310200Z"
    }
   },
   "id": "c9b2dbdc1e2084c0"
  },
  {
   "cell_type": "code",
   "execution_count": 5,
   "outputs": [
    {
     "data": {
      "text/plain": "array([[-1.40603403e-01, -6.14350093e-04, -6.50823714e-04, ...,\n         1.34425072e-05,  3.40022059e-06, -7.88862797e-06],\n       [-1.40603403e-01, -6.14350096e-04, -6.50823728e-04, ...,\n         1.34425027e-05,  3.40022344e-06, -7.88863377e-06],\n       [-1.40603403e-01, -6.14350096e-04, -6.50823717e-04, ...,\n         1.34425138e-05,  3.40020830e-06, -7.88865484e-06],\n       ...,\n       [-1.40603403e-01, -6.14350096e-04, -6.50823722e-04, ...,\n         1.34425094e-05,  3.40020442e-06, -7.88865590e-06],\n       [-1.40603403e-01, -6.14350096e-04, -6.50823722e-04, ...,\n         1.34425094e-05,  3.40020442e-06, -7.88865590e-06],\n       [-1.40603403e-01, -6.14350096e-04, -6.50823722e-04, ...,\n         1.34425094e-05,  3.40020442e-06, -7.88865590e-06]])"
     },
     "execution_count": 5,
     "metadata": {},
     "output_type": "execute_result"
    }
   ],
   "source": [
    "data"
   ],
   "metadata": {
    "collapsed": false,
    "ExecuteTime": {
     "end_time": "2024-01-21T16:19:41.180373400Z",
     "start_time": "2024-01-21T16:19:41.162256400Z"
    }
   },
   "id": "588d29d906e9b6ee"
  },
  {
   "cell_type": "code",
   "execution_count": 16,
   "outputs": [
    {
     "data": {
      "text/plain": "471092"
     },
     "execution_count": 16,
     "metadata": {},
     "output_type": "execute_result"
    }
   ],
   "source": [
    "# find duplicate rows\n",
    "df = pd.DataFrame(data)\n",
    "df.duplicated().sum()"
   ],
   "metadata": {
    "collapsed": false,
    "ExecuteTime": {
     "end_time": "2024-01-21T16:22:35.927982400Z",
     "start_time": "2024-01-21T16:22:28.415506600Z"
    }
   },
   "id": "4dd828cdab96bcf2"
  },
  {
   "cell_type": "code",
   "execution_count": 18,
   "outputs": [],
   "source": [
    "# set duplicate rows to 0\n",
    "df[df.duplicated()] = 0"
   ],
   "metadata": {
    "collapsed": false,
    "ExecuteTime": {
     "end_time": "2024-01-21T16:23:34.714789300Z",
     "start_time": "2024-01-21T16:23:27.117704500Z"
    }
   },
   "id": "a92a1e2edbcaf1be"
  },
  {
   "cell_type": "code",
   "execution_count": 22,
   "outputs": [
    {
     "data": {
      "text/plain": "0     -0.140603\n1     -0.000614\n2     -0.000651\n3     -0.000510\n4     -0.000159\n         ...   \n123    0.000006\n124   -0.000008\n125    0.000013\n126    0.000003\n127   -0.000008\nName: 2, Length: 128, dtype: float64"
     },
     "execution_count": 22,
     "metadata": {},
     "output_type": "execute_result"
    }
   ],
   "source": [
    "df.loc[2]"
   ],
   "metadata": {
    "collapsed": false,
    "ExecuteTime": {
     "end_time": "2024-01-21T16:24:35.784704800Z",
     "start_time": "2024-01-21T16:24:35.773451700Z"
    }
   },
   "id": "27edd206437140d"
  }
 ],
 "metadata": {
  "kernelspec": {
   "display_name": "Python 3",
   "language": "python",
   "name": "python3"
  },
  "language_info": {
   "codemirror_mode": {
    "name": "ipython",
    "version": 2
   },
   "file_extension": ".py",
   "mimetype": "text/x-python",
   "name": "python",
   "nbconvert_exporter": "python",
   "pygments_lexer": "ipython2",
   "version": "2.7.6"
  }
 },
 "nbformat": 4,
 "nbformat_minor": 5
}
