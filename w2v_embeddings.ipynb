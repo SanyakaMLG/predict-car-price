{
 "cells": [
  {
   "cell_type": "code",
   "execution_count": 3,
   "id": "initial_id",
   "metadata": {
    "collapsed": true,
    "ExecuteTime": {
     "end_time": "2024-01-20T09:53:31.611610600Z",
     "start_time": "2024-01-20T09:53:29.449436700Z"
    }
   },
   "outputs": [],
   "source": [
    "import pandas as pd\n",
    "import numpy as np\n",
    "import ssl\n",
    "import gensim\n",
    "from gensim.models.callbacks import CallbackAny2Vec\n",
    "\n",
    "from sklearn.linear_model import LogisticRegression\n",
    "from sklearn.feature_extraction.text import CountVectorizer, TfidfVectorizer\n",
    "from sklearn.model_selection import train_test_split\n",
    "from sklearn.metrics import accuracy_score"
   ]
  },
  {
   "cell_type": "code",
   "execution_count": 4,
   "outputs": [],
   "source": [
    "class LossLogger(CallbackAny2Vec):\n",
    "    def __init__(self):\n",
    "        self.epoch = 0\n",
    "        self.loss_previous_step = 0\n",
    "\n",
    "    def on_epoch_end(self, model):\n",
    "        loss = model.get_latest_training_loss()\n",
    "        print('Loss after epoch {}: {}'.format(self.epoch, loss - self.loss_previous_step))\n",
    "        self.epoch += 1\n",
    "        self.loss_previous_step = loss"
   ],
   "metadata": {
    "collapsed": false,
    "ExecuteTime": {
     "end_time": "2024-01-20T09:53:31.617507700Z",
     "start_time": "2024-01-20T09:53:31.614963400Z"
    }
   },
   "id": "261d17b20baa69c4"
  },
  {
   "cell_type": "code",
   "execution_count": 8,
   "outputs": [],
   "source": [
    "data = pd.read_csv('prepared_data.csv')"
   ],
   "metadata": {
    "collapsed": false,
    "ExecuteTime": {
     "end_time": "2024-01-20T09:54:58.044614300Z",
     "start_time": "2024-01-20T09:54:48.395663900Z"
    }
   },
   "id": "359090702b84d1f0"
  },
  {
   "cell_type": "code",
   "execution_count": 12,
   "outputs": [],
   "source": [
    "data['description'] = data['description'].fillna('')"
   ],
   "metadata": {
    "collapsed": false,
    "ExecuteTime": {
     "end_time": "2024-01-20T09:56:00.017676100Z",
     "start_time": "2024-01-20T09:55:59.892327600Z"
    }
   },
   "id": "65b543b37836ad4c"
  },
  {
   "cell_type": "code",
   "execution_count": 13,
   "outputs": [],
   "source": [
    "sentences = data['description'].values.tolist()"
   ],
   "metadata": {
    "collapsed": false,
    "ExecuteTime": {
     "end_time": "2024-01-20T09:56:00.591875400Z",
     "start_time": "2024-01-20T09:56:00.588342800Z"
    }
   },
   "id": "433b9f692093b3ac"
  },
  {
   "cell_type": "code",
   "execution_count": 14,
   "outputs": [],
   "source": [
    "sentences = [sentence.split() for sentence in sentences]"
   ],
   "metadata": {
    "collapsed": false,
    "ExecuteTime": {
     "end_time": "2024-01-20T09:56:09.073377100Z",
     "start_time": "2024-01-20T09:56:01.188601800Z"
    }
   },
   "id": "32d6bed0b765c0a9"
  },
  {
   "cell_type": "code",
   "execution_count": 15,
   "outputs": [],
   "source": [
    "sentences[:5]"
   ],
   "metadata": {
    "collapsed": false,
    "ExecuteTime": {
     "end_time": "2024-01-20T09:56:15.530315900Z",
     "start_time": "2024-01-20T09:56:15.523263400Z"
    }
   },
   "id": "9c196cbbad08788d"
  },
  {
   "cell_type": "code",
   "execution_count": 16,
   "outputs": [],
   "source": [
    "from gensim.models.word2vec import Word2Vec"
   ],
   "metadata": {
    "collapsed": false,
    "ExecuteTime": {
     "end_time": "2024-01-20T09:56:55.349634400Z",
     "start_time": "2024-01-20T09:56:55.340252600Z"
    }
   },
   "id": "b19ddfd813b389fe"
  },
  {
   "cell_type": "code",
   "execution_count": 18,
   "outputs": [
    {
     "name": "stdout",
     "output_type": "stream",
     "text": [
      "Loss after epoch 0: 67737176.0\n",
      "Loss after epoch 1: 7754624.0\n",
      "Loss after epoch 2: 7686296.0\n",
      "Loss after epoch 3: 7619352.0\n",
      "Loss after epoch 4: 7696232.0\n",
      "Loss after epoch 5: 7694240.0\n",
      "Loss after epoch 6: 7676768.0\n",
      "Loss after epoch 7: 7733184.0\n",
      "Loss after epoch 8: 7721768.0\n",
      "Loss after epoch 9: 4898088.0\n"
     ]
    },
    {
     "data": {
      "text/plain": "(343626457, 395828770)"
     },
     "execution_count": 18,
     "metadata": {},
     "output_type": "execute_result"
    }
   ],
   "source": [
    "w2v_model = Word2Vec(sg=1, vector_size=128, window=5, min_count=3, hs=1, negative=12, workers=8)\n",
    "w2v_model.build_vocab(sentences)\n",
    "w2v_model.train(\n",
    "    sentences,\n",
    "    total_examples=w2v_model.corpus_count,\n",
    "    epochs=10,\n",
    "    compute_loss=True,\n",
    "    callbacks=[LossLogger()]\n",
    ")"
   ],
   "metadata": {
    "collapsed": false,
    "ExecuteTime": {
     "end_time": "2024-01-20T10:31:29.984806300Z",
     "start_time": "2024-01-20T09:57:54.313270400Z"
    }
   },
   "id": "a22652c45ad4caa7"
  },
  {
   "cell_type": "code",
   "execution_count": 25,
   "outputs": [],
   "source": [
    "class Word2VecTransformer:\n",
    "\n",
    "    def __init__(self, w2v_model):\n",
    "\n",
    "        self.w2v_model = w2v_model\n",
    "\n",
    "    def fit(self, X):\n",
    "        return self\n",
    "\n",
    "    def transform(self, X):\n",
    "\n",
    "        X_transformed = np.zeros((len(X), self.w2v_model.wv.vector_size))\n",
    "        for i, title in enumerate(X):\n",
    "\n",
    "            title_vector = np.zeros((self.w2v_model.wv.vector_size,))\n",
    "            tokens = title.split()\n",
    "            for token in tokens:\n",
    "                if token in self.w2v_model.wv.key_to_index:\n",
    "                    title_vector += self.w2v_model.wv.get_vector(token)\n",
    "\n",
    "            X_transformed[i] = title_vector / (1 if len(tokens) == 0 else len(tokens))\n",
    "\n",
    "        return X_transformed"
   ],
   "metadata": {
    "collapsed": false,
    "ExecuteTime": {
     "end_time": "2024-01-20T10:33:43.014572700Z",
     "start_time": "2024-01-20T10:33:43.007093Z"
    }
   },
   "id": "df0b15c875c596a4"
  },
  {
   "cell_type": "code",
   "execution_count": 26,
   "outputs": [],
   "source": [
    "w2v_transformer = Word2VecTransformer(w2v_model=w2v_model)"
   ],
   "metadata": {
    "collapsed": false,
    "ExecuteTime": {
     "end_time": "2024-01-20T10:33:43.828605600Z",
     "start_time": "2024-01-20T10:33:43.822082400Z"
    }
   },
   "id": "d98351e6e0be4672"
  },
  {
   "cell_type": "code",
   "execution_count": 27,
   "outputs": [],
   "source": [
    "train_w2v = w2v_transformer.transform(data['description'].values)"
   ],
   "metadata": {
    "collapsed": false,
    "ExecuteTime": {
     "end_time": "2024-01-20T10:35:14.755328900Z",
     "start_time": "2024-01-20T10:33:44.505032500Z"
    }
   },
   "id": "8f4f2037963db633"
  },
  {
   "cell_type": "code",
   "execution_count": 29,
   "outputs": [],
   "source": [
    "test = pd.read_csv('prepared_test.csv')"
   ],
   "metadata": {
    "collapsed": false,
    "ExecuteTime": {
     "end_time": "2024-01-20T10:35:39.888352800Z",
     "start_time": "2024-01-20T10:35:39.742908800Z"
    }
   },
   "id": "6fe60610ed7115b3"
  },
  {
   "cell_type": "code",
   "execution_count": 30,
   "outputs": [],
   "source": [
    "test_w2v = w2v_transformer.transform(test['description'].values)"
   ],
   "metadata": {
    "collapsed": false,
    "ExecuteTime": {
     "end_time": "2024-01-20T10:35:46.306900100Z",
     "start_time": "2024-01-20T10:35:45.482282700Z"
    }
   },
   "id": "cca8786204ce77b9"
  },
  {
   "cell_type": "code",
   "execution_count": 31,
   "outputs": [],
   "source": [
    "np.save('train_w2v.npy', train_w2v)\n",
    "np.save('test_w2v.npy', test_w2v)"
   ],
   "metadata": {
    "collapsed": false,
    "ExecuteTime": {
     "end_time": "2024-01-20T10:35:59.481707Z",
     "start_time": "2024-01-20T10:35:58.937050100Z"
    }
   },
   "id": "e1441d3a2b9c64c7"
  }
 ],
 "metadata": {
  "kernelspec": {
   "display_name": "Python 3",
   "language": "python",
   "name": "python3"
  },
  "language_info": {
   "codemirror_mode": {
    "name": "ipython",
    "version": 2
   },
   "file_extension": ".py",
   "mimetype": "text/x-python",
   "name": "python",
   "nbconvert_exporter": "python",
   "pygments_lexer": "ipython2",
   "version": "2.7.6"
  }
 },
 "nbformat": 4,
 "nbformat_minor": 5
}
